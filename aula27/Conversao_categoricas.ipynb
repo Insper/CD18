{
 "cells": [
  {
   "cell_type": "markdown",
   "metadata": {},
   "source": [
    "# Convertendo categóricas em quantitativas"
   ]
  },
  {
   "cell_type": "markdown",
   "metadata": {},
   "source": [
    "___\n",
    "Fonte: \n",
    "\n",
    "[House Prices Prediction: Kaggle](https://www.kaggle.com/c/house-prices-advanced-regression-techniques)"
   ]
  },
  {
   "cell_type": "code",
   "execution_count": 1,
   "metadata": {},
   "outputs": [],
   "source": [
    "%matplotlib notebook\n",
    "%reset -f\n",
    "\n",
    "\n",
    "import pandas as pd\n",
    "import numpy as np\n",
    "from scipy.stats import norm, probplot\n",
    "import statsmodels.api as sm\n",
    "import matplotlib.pyplot as plt\n",
    "from mpl_toolkits.mplot3d import Axes3D\n",
    "\n",
    "from sklearn import preprocessing\n",
    "\n",
    "### Função utilitária para fazer a regressão com constante adicionada\n",
    "def regress(X,Y):\n",
    "    X_cp = sm.add_constant(X)\n",
    "    model = sm.OLS(Y,X_cp)\n",
    "    results = model.fit()\n",
    "    return results"
   ]
  },
  {
   "cell_type": "code",
   "execution_count": 2,
   "metadata": {},
   "outputs": [],
   "source": [
    "%matplotlib inline\n",
    "\n",
    "import pandas as pd\n",
    "import numpy as np\n",
    "import matplotlib.pyplot as plt\n",
    "from scipy.stats import norm"
   ]
  },
  {
   "cell_type": "code",
   "execution_count": 3,
   "metadata": {},
   "outputs": [],
   "source": [
    "# Fonte: \n",
    "\n",
    "dados = pd.read_excel(\"houseAS.xlsx\")"
   ]
  },
  {
   "cell_type": "code",
   "execution_count": 4,
   "metadata": {},
   "outputs": [
    {
     "data": {
      "text/html": [
       "<div>\n",
       "<style scoped>\n",
       "    .dataframe tbody tr th:only-of-type {\n",
       "        vertical-align: middle;\n",
       "    }\n",
       "\n",
       "    .dataframe tbody tr th {\n",
       "        vertical-align: top;\n",
       "    }\n",
       "\n",
       "    .dataframe thead th {\n",
       "        text-align: right;\n",
       "    }\n",
       "</style>\n",
       "<table border=\"1\" class=\"dataframe\">\n",
       "  <thead>\n",
       "    <tr style=\"text-align: right;\">\n",
       "      <th></th>\n",
       "      <th>SalePrice</th>\n",
       "      <th>Foundation</th>\n",
       "      <th>OverallQual</th>\n",
       "      <th>LotArea</th>\n",
       "      <th>X1stFlrSF</th>\n",
       "      <th>X2ndFlrSF</th>\n",
       "      <th>GarageCars</th>\n",
       "      <th>Fireplaces</th>\n",
       "      <th>Street</th>\n",
       "      <th>LandSlope</th>\n",
       "      <th>RoofStyle</th>\n",
       "      <th>CentralAir</th>\n",
       "      <th>YearBuilt</th>\n",
       "      <th>YrSold</th>\n",
       "    </tr>\n",
       "  </thead>\n",
       "  <tbody>\n",
       "    <tr>\n",
       "      <th>0</th>\n",
       "      <td>208500</td>\n",
       "      <td>PConc</td>\n",
       "      <td>Good</td>\n",
       "      <td>8450</td>\n",
       "      <td>856</td>\n",
       "      <td>854</td>\n",
       "      <td>2</td>\n",
       "      <td>0</td>\n",
       "      <td>Pave</td>\n",
       "      <td>Gtl</td>\n",
       "      <td>Gable</td>\n",
       "      <td>Y</td>\n",
       "      <td>2003</td>\n",
       "      <td>2008</td>\n",
       "    </tr>\n",
       "    <tr>\n",
       "      <th>1</th>\n",
       "      <td>181500</td>\n",
       "      <td>CBlock</td>\n",
       "      <td>Above Average</td>\n",
       "      <td>9600</td>\n",
       "      <td>1262</td>\n",
       "      <td>0</td>\n",
       "      <td>2</td>\n",
       "      <td>1</td>\n",
       "      <td>Pave</td>\n",
       "      <td>Gtl</td>\n",
       "      <td>Gable</td>\n",
       "      <td>Y</td>\n",
       "      <td>1976</td>\n",
       "      <td>2007</td>\n",
       "    </tr>\n",
       "    <tr>\n",
       "      <th>2</th>\n",
       "      <td>223500</td>\n",
       "      <td>PConc</td>\n",
       "      <td>Good</td>\n",
       "      <td>11250</td>\n",
       "      <td>920</td>\n",
       "      <td>866</td>\n",
       "      <td>2</td>\n",
       "      <td>1</td>\n",
       "      <td>Pave</td>\n",
       "      <td>Gtl</td>\n",
       "      <td>Gable</td>\n",
       "      <td>Y</td>\n",
       "      <td>2001</td>\n",
       "      <td>2008</td>\n",
       "    </tr>\n",
       "    <tr>\n",
       "      <th>3</th>\n",
       "      <td>140000</td>\n",
       "      <td>BrkTil</td>\n",
       "      <td>Good</td>\n",
       "      <td>9550</td>\n",
       "      <td>961</td>\n",
       "      <td>756</td>\n",
       "      <td>3</td>\n",
       "      <td>1</td>\n",
       "      <td>Pave</td>\n",
       "      <td>Gtl</td>\n",
       "      <td>Gable</td>\n",
       "      <td>Y</td>\n",
       "      <td>1915</td>\n",
       "      <td>2006</td>\n",
       "    </tr>\n",
       "    <tr>\n",
       "      <th>4</th>\n",
       "      <td>250000</td>\n",
       "      <td>PConc</td>\n",
       "      <td>Very Good</td>\n",
       "      <td>14260</td>\n",
       "      <td>1145</td>\n",
       "      <td>1053</td>\n",
       "      <td>3</td>\n",
       "      <td>1</td>\n",
       "      <td>Pave</td>\n",
       "      <td>Gtl</td>\n",
       "      <td>Gable</td>\n",
       "      <td>Y</td>\n",
       "      <td>2000</td>\n",
       "      <td>2008</td>\n",
       "    </tr>\n",
       "  </tbody>\n",
       "</table>\n",
       "</div>"
      ],
      "text/plain": [
       "   SalePrice Foundation    OverallQual  LotArea  X1stFlrSF  X2ndFlrSF  \\\n",
       "0     208500      PConc           Good     8450        856        854   \n",
       "1     181500     CBlock  Above Average     9600       1262          0   \n",
       "2     223500      PConc           Good    11250        920        866   \n",
       "3     140000     BrkTil           Good     9550        961        756   \n",
       "4     250000      PConc      Very Good    14260       1145       1053   \n",
       "\n",
       "   GarageCars  Fireplaces Street LandSlope RoofStyle CentralAir  YearBuilt  \\\n",
       "0           2           0   Pave       Gtl     Gable          Y       2003   \n",
       "1           2           1   Pave       Gtl     Gable          Y       1976   \n",
       "2           2           1   Pave       Gtl     Gable          Y       2001   \n",
       "3           3           1   Pave       Gtl     Gable          Y       1915   \n",
       "4           3           1   Pave       Gtl     Gable          Y       2000   \n",
       "\n",
       "   YrSold  \n",
       "0    2008  \n",
       "1    2007  \n",
       "2    2008  \n",
       "3    2006  \n",
       "4    2008  "
      ]
     },
     "execution_count": 4,
     "metadata": {},
     "output_type": "execute_result"
    }
   ],
   "source": [
    "dados.head()"
   ]
  },
  {
   "cell_type": "code",
   "execution_count": 5,
   "metadata": {},
   "outputs": [
    {
     "data": {
      "text/plain": [
       "Index(['SalePrice', 'Foundation', 'OverallQual', 'LotArea', 'X1stFlrSF',\n",
       "       'X2ndFlrSF', 'GarageCars', 'Fireplaces', 'Street', 'LandSlope',\n",
       "       'RoofStyle', 'CentralAir', 'YearBuilt', 'YrSold'],\n",
       "      dtype='object')"
      ]
     },
     "execution_count": 5,
     "metadata": {},
     "output_type": "execute_result"
    }
   ],
   "source": [
    "dados.columns"
   ]
  },
  {
   "cell_type": "code",
   "execution_count": 6,
   "metadata": {},
   "outputs": [],
   "source": [
    "dados.Foundation = dados.Foundation.astype('category')\n",
    "dados.OverallQual = dados.OverallQual.astype('category')\n",
    "dados.Street = dados.Street.astype('category')\n",
    "dados.LandSlope = dados.LandSlope.astype('category')\n",
    "dados.RoofStyle = dados.RoofStyle.astype('category')\n",
    "dados.CentralAir = dados.CentralAir.astype('category')\n",
    "\n",
    "#dados.Foundation.cat.categories = (['BrkTil','CBlock','PConc','Slab','Stone','Wood'])\n",
    "#dados.OverallQual.cat.categories = (['Very Poor','Poor','Fair','Below Average','Average',\n",
    "#                                     'Above Average','Good','Very Good','Excellent','Very Excellent'\n",
    "#dados.Street.cat.categories = (['Grvl','Pave'])\n",
    "#dados.LandSlope.cat.categories = (['Gtl','Mod','Sev'])\n",
    "#dados.RoofStyle.cat.categories = (['Flat','Gable','Gambrel','Hip','Mansard','Shed'])\n",
    "#dados.CentralAir.cat.categories = (['N','Y'])"
   ]
  },
  {
   "cell_type": "code",
   "execution_count": 7,
   "metadata": {},
   "outputs": [],
   "source": [
    "quantitativas = ['LotArea', 'X1stFlrSF', 'X2ndFlrSF', 'GarageCars',\n",
    "       'Fireplaces', 'YearBuilt', 'YrSold', 'SalePrice']"
   ]
  },
  {
   "cell_type": "code",
   "execution_count": 8,
   "metadata": {},
   "outputs": [],
   "source": [
    "# Separaremos as preditoras\n",
    "quant_x = quantitativas.copy()\n",
    "quant_x.remove('SalePrice')"
   ]
  },
  {
   "cell_type": "code",
   "execution_count": 9,
   "metadata": {},
   "outputs": [],
   "source": [
    "results = regress(dados.loc[:, quant_x], dados.SalePrice)"
   ]
  },
  {
   "cell_type": "code",
   "execution_count": 10,
   "metadata": {},
   "outputs": [
    {
     "data": {
      "text/html": [
       "<table class=\"simpletable\">\n",
       "<caption>OLS Regression Results</caption>\n",
       "<tr>\n",
       "  <th>Dep. Variable:</th>        <td>SalePrice</td>    <th>  R-squared:         </th> <td>   0.715</td> \n",
       "</tr>\n",
       "<tr>\n",
       "  <th>Model:</th>                   <td>OLS</td>       <th>  Adj. R-squared:    </th> <td>   0.714</td> \n",
       "</tr>\n",
       "<tr>\n",
       "  <th>Method:</th>             <td>Least Squares</td>  <th>  F-statistic:       </th> <td>   521.1</td> \n",
       "</tr>\n",
       "<tr>\n",
       "  <th>Date:</th>             <td>Thu, 08 Nov 2018</td> <th>  Prob (F-statistic):</th>  <td>  0.00</td>  \n",
       "</tr>\n",
       "<tr>\n",
       "  <th>Time:</th>                 <td>13:22:23</td>     <th>  Log-Likelihood:    </th> <td> -17627.</td> \n",
       "</tr>\n",
       "<tr>\n",
       "  <th>No. Observations:</th>      <td>  1460</td>      <th>  AIC:               </th> <td>3.527e+04</td>\n",
       "</tr>\n",
       "<tr>\n",
       "  <th>Df Residuals:</th>          <td>  1452</td>      <th>  BIC:               </th> <td>3.531e+04</td>\n",
       "</tr>\n",
       "<tr>\n",
       "  <th>Df Model:</th>              <td>     7</td>      <th>                     </th>     <td> </td>    \n",
       "</tr>\n",
       "<tr>\n",
       "  <th>Covariance Type:</th>      <td>nonrobust</td>    <th>                     </th>     <td> </td>    \n",
       "</tr>\n",
       "</table>\n",
       "<table class=\"simpletable\">\n",
       "<tr>\n",
       "       <td></td>         <th>coef</th>     <th>std err</th>      <th>t</th>      <th>P>|t|</th>  <th>[0.025</th>    <th>0.975]</th>  \n",
       "</tr>\n",
       "<tr>\n",
       "  <th>const</th>      <td> -1.61e+06</td> <td> 1.69e+06</td> <td>   -0.955</td> <td> 0.340</td> <td>-4.92e+06</td> <td>  1.7e+06</td>\n",
       "</tr>\n",
       "<tr>\n",
       "  <th>LotArea</th>    <td>    0.3761</td> <td>    0.119</td> <td>    3.150</td> <td> 0.002</td> <td>    0.142</td> <td>    0.610</td>\n",
       "</tr>\n",
       "<tr>\n",
       "  <th>X1stFlrSF</th>  <td>   95.3290</td> <td>    3.777</td> <td>   25.240</td> <td> 0.000</td> <td>   87.920</td> <td>  102.738</td>\n",
       "</tr>\n",
       "<tr>\n",
       "  <th>X2ndFlrSF</th>  <td>   64.5094</td> <td>    2.871</td> <td>   22.472</td> <td> 0.000</td> <td>   58.878</td> <td>   70.140</td>\n",
       "</tr>\n",
       "<tr>\n",
       "  <th>GarageCars</th> <td> 2.003e+04</td> <td> 1995.441</td> <td>   10.039</td> <td> 0.000</td> <td> 1.61e+04</td> <td> 2.39e+04</td>\n",
       "</tr>\n",
       "<tr>\n",
       "  <th>Fireplaces</th> <td> 1.206e+04</td> <td> 2014.953</td> <td>    5.986</td> <td> 0.000</td> <td> 8109.277</td> <td>  1.6e+04</td>\n",
       "</tr>\n",
       "<tr>\n",
       "  <th>YearBuilt</th>  <td>  715.3604</td> <td>   44.151</td> <td>   16.203</td> <td> 0.000</td> <td>  628.755</td> <td>  801.966</td>\n",
       "</tr>\n",
       "<tr>\n",
       "  <th>YrSold</th>     <td>   99.8190</td> <td>  838.563</td> <td>    0.119</td> <td> 0.905</td> <td>-1545.106</td> <td> 1744.744</td>\n",
       "</tr>\n",
       "</table>\n",
       "<table class=\"simpletable\">\n",
       "<tr>\n",
       "  <th>Omnibus:</th>       <td>368.732</td> <th>  Durbin-Watson:     </th> <td>   2.001</td> \n",
       "</tr>\n",
       "<tr>\n",
       "  <th>Prob(Omnibus):</th> <td> 0.000</td>  <th>  Jarque-Bera (JB):  </th> <td>22990.458</td>\n",
       "</tr>\n",
       "<tr>\n",
       "  <th>Skew:</th>          <td> 0.053</td>  <th>  Prob(JB):          </th> <td>    0.00</td> \n",
       "</tr>\n",
       "<tr>\n",
       "  <th>Kurtosis:</th>      <td>22.440</td>  <th>  Cond. No.          </th> <td>2.22e+07</td> \n",
       "</tr>\n",
       "</table><br/><br/>Warnings:<br/>[1] Standard Errors assume that the covariance matrix of the errors is correctly specified.<br/>[2] The condition number is large, 2.22e+07. This might indicate that there are<br/>strong multicollinearity or other numerical problems."
      ],
      "text/plain": [
       "<class 'statsmodels.iolib.summary.Summary'>\n",
       "\"\"\"\n",
       "                            OLS Regression Results                            \n",
       "==============================================================================\n",
       "Dep. Variable:              SalePrice   R-squared:                       0.715\n",
       "Model:                            OLS   Adj. R-squared:                  0.714\n",
       "Method:                 Least Squares   F-statistic:                     521.1\n",
       "Date:                Thu, 08 Nov 2018   Prob (F-statistic):               0.00\n",
       "Time:                        13:22:23   Log-Likelihood:                -17627.\n",
       "No. Observations:                1460   AIC:                         3.527e+04\n",
       "Df Residuals:                    1452   BIC:                         3.531e+04\n",
       "Df Model:                           7                                         \n",
       "Covariance Type:            nonrobust                                         \n",
       "==============================================================================\n",
       "                 coef    std err          t      P>|t|      [0.025      0.975]\n",
       "------------------------------------------------------------------------------\n",
       "const       -1.61e+06   1.69e+06     -0.955      0.340   -4.92e+06     1.7e+06\n",
       "LotArea        0.3761      0.119      3.150      0.002       0.142       0.610\n",
       "X1stFlrSF     95.3290      3.777     25.240      0.000      87.920     102.738\n",
       "X2ndFlrSF     64.5094      2.871     22.472      0.000      58.878      70.140\n",
       "GarageCars  2.003e+04   1995.441     10.039      0.000    1.61e+04    2.39e+04\n",
       "Fireplaces  1.206e+04   2014.953      5.986      0.000    8109.277     1.6e+04\n",
       "YearBuilt    715.3604     44.151     16.203      0.000     628.755     801.966\n",
       "YrSold        99.8190    838.563      0.119      0.905   -1545.106    1744.744\n",
       "==============================================================================\n",
       "Omnibus:                      368.732   Durbin-Watson:                   2.001\n",
       "Prob(Omnibus):                  0.000   Jarque-Bera (JB):            22990.458\n",
       "Skew:                           0.053   Prob(JB):                         0.00\n",
       "Kurtosis:                      22.440   Cond. No.                     2.22e+07\n",
       "==============================================================================\n",
       "\n",
       "Warnings:\n",
       "[1] Standard Errors assume that the covariance matrix of the errors is correctly specified.\n",
       "[2] The condition number is large, 2.22e+07. This might indicate that there are\n",
       "strong multicollinearity or other numerical problems.\n",
       "\"\"\""
      ]
     },
     "execution_count": 10,
     "metadata": {},
     "output_type": "execute_result"
    }
   ],
   "source": [
    "results.summary()"
   ]
  },
  {
   "cell_type": "markdown",
   "metadata": {},
   "source": [
    "dados.loc[:, quant_x]"
   ]
  },
  {
   "cell_type": "markdown",
   "metadata": {},
   "source": [
    "Vemos que `YrSold` e `const` não permitem refutar $H_0: \\beta_i = 0$. \n",
    "\n",
    "Por enquanto vamos excluir `YrSold`  e refazer a análise"
   ]
  },
  {
   "cell_type": "code",
   "execution_count": 11,
   "metadata": {},
   "outputs": [],
   "source": [
    "quant_x2 = quant_x.copy()\n",
    "quant_x2.remove('YrSold')"
   ]
  },
  {
   "cell_type": "code",
   "execution_count": 12,
   "metadata": {},
   "outputs": [],
   "source": [
    "results2 = regress(dados.loc[:, quant_x2], dados.SalePrice)"
   ]
  },
  {
   "cell_type": "code",
   "execution_count": 13,
   "metadata": {},
   "outputs": [
    {
     "data": {
      "text/html": [
       "<table class=\"simpletable\">\n",
       "<caption>OLS Regression Results</caption>\n",
       "<tr>\n",
       "  <th>Dep. Variable:</th>        <td>SalePrice</td>    <th>  R-squared:         </th> <td>   0.715</td> \n",
       "</tr>\n",
       "<tr>\n",
       "  <th>Model:</th>                   <td>OLS</td>       <th>  Adj. R-squared:    </th> <td>   0.714</td> \n",
       "</tr>\n",
       "<tr>\n",
       "  <th>Method:</th>             <td>Least Squares</td>  <th>  F-statistic:       </th> <td>   608.3</td> \n",
       "</tr>\n",
       "<tr>\n",
       "  <th>Date:</th>             <td>Thu, 08 Nov 2018</td> <th>  Prob (F-statistic):</th>  <td>  0.00</td>  \n",
       "</tr>\n",
       "<tr>\n",
       "  <th>Time:</th>                 <td>13:22:23</td>     <th>  Log-Likelihood:    </th> <td> -17627.</td> \n",
       "</tr>\n",
       "<tr>\n",
       "  <th>No. Observations:</th>      <td>  1460</td>      <th>  AIC:               </th> <td>3.527e+04</td>\n",
       "</tr>\n",
       "<tr>\n",
       "  <th>Df Residuals:</th>          <td>  1453</td>      <th>  BIC:               </th> <td>3.531e+04</td>\n",
       "</tr>\n",
       "<tr>\n",
       "  <th>Df Model:</th>              <td>     6</td>      <th>                     </th>     <td> </td>    \n",
       "</tr>\n",
       "<tr>\n",
       "  <th>Covariance Type:</th>      <td>nonrobust</td>    <th>                     </th>     <td> </td>    \n",
       "</tr>\n",
       "</table>\n",
       "<table class=\"simpletable\">\n",
       "<tr>\n",
       "       <td></td>         <th>coef</th>     <th>std err</th>      <th>t</th>      <th>P>|t|</th>  <th>[0.025</th>    <th>0.975]</th>  \n",
       "</tr>\n",
       "<tr>\n",
       "  <th>const</th>      <td>-1.409e+06</td> <td> 8.54e+04</td> <td>  -16.507</td> <td> 0.000</td> <td>-1.58e+06</td> <td>-1.24e+06</td>\n",
       "</tr>\n",
       "<tr>\n",
       "  <th>LotArea</th>    <td>    0.3760</td> <td>    0.119</td> <td>    3.151</td> <td> 0.002</td> <td>    0.142</td> <td>    0.610</td>\n",
       "</tr>\n",
       "<tr>\n",
       "  <th>X1stFlrSF</th>  <td>   95.3298</td> <td>    3.776</td> <td>   25.249</td> <td> 0.000</td> <td>   87.924</td> <td>  102.736</td>\n",
       "</tr>\n",
       "<tr>\n",
       "  <th>X2ndFlrSF</th>  <td>   64.5035</td> <td>    2.869</td> <td>   22.481</td> <td> 0.000</td> <td>   58.875</td> <td>   70.132</td>\n",
       "</tr>\n",
       "<tr>\n",
       "  <th>GarageCars</th> <td> 2.003e+04</td> <td> 1994.021</td> <td>   10.043</td> <td> 0.000</td> <td> 1.61e+04</td> <td> 2.39e+04</td>\n",
       "</tr>\n",
       "<tr>\n",
       "  <th>Fireplaces</th> <td> 1.206e+04</td> <td> 2014.200</td> <td>    5.987</td> <td> 0.000</td> <td> 8108.756</td> <td>  1.6e+04</td>\n",
       "</tr>\n",
       "<tr>\n",
       "  <th>YearBuilt</th>  <td>  715.3917</td> <td>   44.135</td> <td>   16.209</td> <td> 0.000</td> <td>  628.817</td> <td>  801.966</td>\n",
       "</tr>\n",
       "</table>\n",
       "<table class=\"simpletable\">\n",
       "<tr>\n",
       "  <th>Omnibus:</th>       <td>368.738</td> <th>  Durbin-Watson:     </th> <td>   2.001</td> \n",
       "</tr>\n",
       "<tr>\n",
       "  <th>Prob(Omnibus):</th> <td> 0.000</td>  <th>  Jarque-Bera (JB):  </th> <td>22989.655</td>\n",
       "</tr>\n",
       "<tr>\n",
       "  <th>Skew:</th>          <td> 0.053</td>  <th>  Prob(JB):          </th> <td>    0.00</td> \n",
       "</tr>\n",
       "<tr>\n",
       "  <th>Kurtosis:</th>      <td>22.440</td>  <th>  Cond. No.          </th> <td>1.12e+06</td> \n",
       "</tr>\n",
       "</table><br/><br/>Warnings:<br/>[1] Standard Errors assume that the covariance matrix of the errors is correctly specified.<br/>[2] The condition number is large, 1.12e+06. This might indicate that there are<br/>strong multicollinearity or other numerical problems."
      ],
      "text/plain": [
       "<class 'statsmodels.iolib.summary.Summary'>\n",
       "\"\"\"\n",
       "                            OLS Regression Results                            \n",
       "==============================================================================\n",
       "Dep. Variable:              SalePrice   R-squared:                       0.715\n",
       "Model:                            OLS   Adj. R-squared:                  0.714\n",
       "Method:                 Least Squares   F-statistic:                     608.3\n",
       "Date:                Thu, 08 Nov 2018   Prob (F-statistic):               0.00\n",
       "Time:                        13:22:23   Log-Likelihood:                -17627.\n",
       "No. Observations:                1460   AIC:                         3.527e+04\n",
       "Df Residuals:                    1453   BIC:                         3.531e+04\n",
       "Df Model:                           6                                         \n",
       "Covariance Type:            nonrobust                                         \n",
       "==============================================================================\n",
       "                 coef    std err          t      P>|t|      [0.025      0.975]\n",
       "------------------------------------------------------------------------------\n",
       "const      -1.409e+06   8.54e+04    -16.507      0.000   -1.58e+06   -1.24e+06\n",
       "LotArea        0.3760      0.119      3.151      0.002       0.142       0.610\n",
       "X1stFlrSF     95.3298      3.776     25.249      0.000      87.924     102.736\n",
       "X2ndFlrSF     64.5035      2.869     22.481      0.000      58.875      70.132\n",
       "GarageCars  2.003e+04   1994.021     10.043      0.000    1.61e+04    2.39e+04\n",
       "Fireplaces  1.206e+04   2014.200      5.987      0.000    8108.756     1.6e+04\n",
       "YearBuilt    715.3917     44.135     16.209      0.000     628.817     801.966\n",
       "==============================================================================\n",
       "Omnibus:                      368.738   Durbin-Watson:                   2.001\n",
       "Prob(Omnibus):                  0.000   Jarque-Bera (JB):            22989.655\n",
       "Skew:                           0.053   Prob(JB):                         0.00\n",
       "Kurtosis:                      22.440   Cond. No.                     1.12e+06\n",
       "==============================================================================\n",
       "\n",
       "Warnings:\n",
       "[1] Standard Errors assume that the covariance matrix of the errors is correctly specified.\n",
       "[2] The condition number is large, 1.12e+06. This might indicate that there are\n",
       "strong multicollinearity or other numerical problems.\n",
       "\"\"\""
      ]
     },
     "execution_count": 13,
     "metadata": {},
     "output_type": "execute_result"
    }
   ],
   "source": [
    "results2.summary()"
   ]
  },
  {
   "cell_type": "markdown",
   "metadata": {},
   "source": [
    "O $R^2$ se manteve, mas temos um modelo menos complexo"
   ]
  },
  {
   "cell_type": "markdown",
   "metadata": {},
   "source": [
    "## One-hot encoding das categóricas"
   ]
  },
  {
   "cell_type": "code",
   "execution_count": 14,
   "metadata": {},
   "outputs": [],
   "source": [
    "\n",
    "def dummify(data, column_name):\n",
    "    \"\"\"\n",
    "        Converte a coluna column_name em dummies / one-hot e as adiciona ao dataframe\n",
    "        retorna uma copia do  df original *sem* a coluna que foi dummified\n",
    "    \"\"\"\n",
    "    df = data.copy()\n",
    "    # Nota: se você for um econometrista, pode se interessar por usar a opção dropFirst = True na get_dummies\n",
    "    df2 = pd.concat([df.drop(column_name, axis=1), pd.get_dummies(data[column_name], prefix=column_name + \"_\")], axis=1)\n",
    "    return df2"
   ]
  },
  {
   "cell_type": "markdown",
   "metadata": {},
   "source": [
    "# Fazendo a conversão *one-hot* num DataFrame"
   ]
  },
  {
   "cell_type": "code",
   "execution_count": null,
   "metadata": {},
   "outputs": [],
   "source": [
    "res = dummify(dados, \"Foundation\")"
   ]
  },
  {
   "cell_type": "code",
   "execution_count": null,
   "metadata": {},
   "outputs": [],
   "source": [
    "res"
   ]
  },
  {
   "cell_type": "markdown",
   "metadata": {},
   "source": [
    "Vamos agora adicionar o `Foundation` à regressão"
   ]
  },
  {
   "cell_type": "code",
   "execution_count": null,
   "metadata": {},
   "outputs": [],
   "source": [
    "res.columns"
   ]
  },
  {
   "cell_type": "code",
   "execution_count": null,
   "metadata": {},
   "outputs": [],
   "source": [
    "quant_x2.extend(['Foundation__BrkTil',\n",
    "       'Foundation__CBlock', 'Foundation__PConc', 'Foundation__Slab',\n",
    "       'Foundation__Stone', 'Foundation__Wood'])"
   ]
  },
  {
   "cell_type": "code",
   "execution_count": null,
   "metadata": {},
   "outputs": [],
   "source": [
    "quant_x2"
   ]
  },
  {
   "cell_type": "code",
   "execution_count": null,
   "metadata": {},
   "outputs": [],
   "source": [
    "results_dummy = regress(res.loc[:,quant_x2], res.SalePrice)"
   ]
  },
  {
   "cell_type": "code",
   "execution_count": null,
   "metadata": {},
   "outputs": [],
   "source": [
    "results_dummy.summary()"
   ]
  },
  {
   "cell_type": "code",
   "execution_count": null,
   "metadata": {},
   "outputs": [],
   "source": []
  }
 ],
 "metadata": {
  "kernelspec": {
   "display_name": "Python 3",
   "language": "python",
   "name": "python3"
  },
  "language_info": {
   "codemirror_mode": {
    "name": "ipython",
    "version": 3
   },
   "file_extension": ".py",
   "mimetype": "text/x-python",
   "name": "python",
   "nbconvert_exporter": "python",
   "pygments_lexer": "ipython3",
   "version": "3.5.5"
  }
 },
 "nbformat": 4,
 "nbformat_minor": 2
}
