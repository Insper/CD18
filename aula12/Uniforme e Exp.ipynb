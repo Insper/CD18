{
 "cells": [
  {
   "cell_type": "markdown",
   "metadata": {},
   "source": [
    "# Distribuições contínuas - exponencial"
   ]
  },
  {
   "cell_type": "code",
   "execution_count": null,
   "metadata": {},
   "outputs": [],
   "source": [
    "import numpy as np\n",
    "from scipy.stats import expon, norm, uniform\n",
    "from scipy import stats\n",
    "\n",
    "import matplotlib.pyplot as plt\n",
    "%matplotlib inline"
   ]
  },
  {
   "cell_type": "markdown",
   "metadata": {},
   "source": [
    "A durabilidade (em anos) de uma dobradiça de porta de carro é modelada como uma exponencial com média 8 anos. "
   ]
  },
  {
   "cell_type": "markdown",
   "metadata": {},
   "source": [
    "### Atividade 1"
   ]
  },
  {
   "cell_type": "markdown",
   "metadata": {},
   "source": [
    "Plote esta  exponencial  e sua cumulativa\n",
    "\n",
    "Dica: Entenda as funções `expon.cdf` e `expon.pdf` , que se encontram no pacote `scipy.stats`\n",
    "\n",
    "O parâmetro da exponencial é o mesmo `alpha` que vimos em aula"
   ]
  },
  {
   "cell_type": "code",
   "execution_count": null,
   "metadata": {},
   "outputs": [],
   "source": []
  },
  {
   "cell_type": "markdown",
   "metadata": {},
   "source": [
    "### Atividade 2"
   ]
  },
  {
   "cell_type": "markdown",
   "metadata": {},
   "source": [
    "Dada que uma porta de carro já durou 9 anos, qual a probabilidade que dure mais um ano?"
   ]
  },
  {
   "cell_type": "code",
   "execution_count": null,
   "metadata": {},
   "outputs": [],
   "source": []
  },
  {
   "cell_type": "markdown",
   "metadata": {},
   "source": [
    "### Atividade 3"
   ]
  },
  {
   "cell_type": "markdown",
   "metadata": {},
   "source": [
    "Você recebeu os seguintes dados de durabilidade de transistores de potência usados em regulação de redes elétricas.\n",
    "\n"
   ]
  },
  {
   "cell_type": "code",
   "execution_count": null,
   "metadata": {},
   "outputs": [],
   "source": [
    "valores = '1.8856 1.5507 1.7073 2.7328 5.365 1.7304 1.5199 3.8589 4.9307 4.1178 1.8538 2.8386 1.565 2.9621 1.8991 2.4857 3.06 2.3714 1.5971 2.5201 4.0776 5.7166 4.9566 1.5876 2.4548 1.7993 10.1355 4.2473 3.0739 7.8367 3.0277 1.87 3.6031 1.7665 5.2481 3.709 1.8157 3.5348 2.9533 9.2561 2.9065 4.4965 2.0498 1.9015 1.786 2.4828 1.8039 1.798 1.9954 4.634 3.6158 3.1088 3.7807 6.8141 7.4461 2.2074 2.0289 2.6753 2.2843 2.5732 3.991 4.5763 2.8702 2.1428 2.2604 3.1635 2.6232 1.7819 2.4269 1.9168 1.7563 2.2929 1.7811 1.5809 2.7232 2.512 4.3608 1.5396 3.9012 3.6535 1.8354 2.1808 1.6442 3.0363 1.7379 6.8235 1.824 3.1553 3.3554 1.7797 1.6595 3.7912 3.0213 3.1098 3.2884 5.8926 6.451 2.2954 2.6499 6.725'"
   ]
  },
  {
   "cell_type": "code",
   "execution_count": null,
   "metadata": {},
   "outputs": [],
   "source": [
    "valores_f = [float(v) for v in valores.split()]"
   ]
  },
  {
   "cell_type": "markdown",
   "metadata": {},
   "source": [
    "Faça o histogram dos valores e avalie se faz sentido que venham de uma distribuição exponencial\n"
   ]
  },
  {
   "cell_type": "markdown",
   "metadata": {},
   "source": [
    "### Atividade 4\n",
    "\n",
    "Descubra como usar a função `probplot` para poder avaliar se faz sentido que os dados tenham vindo de uma exponencial. \n",
    "\n",
    "Responda: faz sentido?\n"
   ]
  },
  {
   "cell_type": "code",
   "execution_count": null,
   "metadata": {},
   "outputs": [],
   "source": []
  },
  {
   "cell_type": "markdown",
   "metadata": {},
   "source": [
    "### Atividade 5\n",
    "\n",
    "Usando `expon.fit` obtenha o possível valor de $\\alpha$ da distribuição exponencial que poderia ajustar os dados. Visualize o resultado"
   ]
  },
  {
   "cell_type": "code",
   "execution_count": null,
   "metadata": {},
   "outputs": [],
   "source": []
  }
 ],
 "metadata": {
  "kernelspec": {
   "display_name": "Python 3",
   "language": "python",
   "name": "python3"
  },
  "language_info": {
   "codemirror_mode": {
    "name": "ipython",
    "version": 3
   },
   "file_extension": ".py",
   "mimetype": "text/x-python",
   "name": "python",
   "nbconvert_exporter": "python",
   "pygments_lexer": "ipython3",
   "version": "3.5.5"
  }
 },
 "nbformat": 4,
 "nbformat_minor": 2
}
