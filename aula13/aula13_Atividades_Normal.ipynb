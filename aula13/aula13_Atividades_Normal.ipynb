{
 "cells": [
  {
   "cell_type": "markdown",
   "metadata": {},
   "source": [
    "# Distribuição Normal"
   ]
  },
  {
   "cell_type": "code",
   "execution_count": null,
   "metadata": {},
   "outputs": [],
   "source": [
    "import numpy as np\n",
    "import pandas as pd\n",
    "from scipy.stats import norm, probplot\n",
    "\n",
    "import matplotlib.pyplot as plt\n",
    "\n",
    "%matplotlib inline"
   ]
  },
  {
   "cell_type": "markdown",
   "metadata": {},
   "source": [
    "### Caixa de Galton\n",
    "\n",
    "![Caixa de galton](LegalTameChanticleer-size_restricted.gif)\n",
    "\n",
    "[Fonte: https://www.youtube.com/watch?v=UCmPmkHqHXk](https://www.youtube.com/watch?v=UCmPmkHqHXk&t=271s)"
   ]
  },
  {
   "cell_type": "markdown",
   "metadata": {},
   "source": [
    "## Distribuição normal\n",
    "\n",
    "$f(x) = \\frac{1}{\\sqrt{2 \\pi} \\sigma}e^{\\frac{-(x - \\mu)^2}{2 \\sigma^2}}$\n",
    "\n",
    "A normal padrão tem $\\mu=0$ e $\\sigma=1$\n",
    "\n",
    "Temos que:\n",
    "\n",
    "$E(X) = \\mu$\n",
    "\n",
    "e também que:\n",
    "\n",
    "$V(X) = \\sigma^2$\n",
    "\n",
    "Notação:\n",
    "\n",
    "$X \\sim N(\\mu, \\sigma^2)$ - diz-se que $X$ segue uma distribuição normal com média $\\mu$ e desvio padrão $\\sigma$.\n",
    "\n",
    "$f(z) = \\frac{1}{\\sqrt{2 \\pi} }e^{\\frac{-z^2}{2 }}$\n",
    "\n",
    "\n",
    "\n",
    "A padronização (converter qualquer curva normal na normal padrão) pode ser feita com a seguinte mudança de variáveis:\n",
    "\n",
    "$z = \\frac{x-\\mu}{\\sigma}$  \n",
    "\n"
   ]
  },
  {
   "cell_type": "markdown",
   "metadata": {},
   "source": [
    "### Faixas para valores inteiros de sigma\n",
    "\n",
    "Resultados:\n",
    "\n",
    "$$P(\\mu-\\sigma < X < \\mu + \\sigma) = 0.6827$$\n",
    "\n",
    "$$P(\\mu- 2\\sigma < X < \\mu + 2 \\sigma) = 0.9545$$\n",
    "\n",
    "$$P(\\mu-3\\sigma < X < \\mu + 3\\sigma) = 0.9973$$\n",
    "\n",
    "E também, dada a forma da normal:\n",
    "\n",
    "$$P(X<0.5) = P(X>0.5) = 0.5$$"
   ]
  },
  {
   "cell_type": "markdown",
   "metadata": {},
   "source": [
    "Vamos verificar os resultados acima com programação:"
   ]
  },
  {
   "cell_type": "markdown",
   "metadata": {},
   "source": [
    "Para $1 \\sigma$"
   ]
  },
  {
   "cell_type": "code",
   "execution_count": null,
   "metadata": {},
   "outputs": [],
   "source": [
    "norm.cdf(1) - norm.cdf(-1)"
   ]
  },
  {
   "cell_type": "markdown",
   "metadata": {},
   "source": [
    "Para 2 $\\sigma$"
   ]
  },
  {
   "cell_type": "code",
   "execution_count": null,
   "metadata": {},
   "outputs": [],
   "source": [
    "norm.cdf(2) - norm.cdf(-2)"
   ]
  },
  {
   "cell_type": "markdown",
   "metadata": {},
   "source": [
    "Para $3 \\sigma$"
   ]
  },
  {
   "cell_type": "code",
   "execution_count": null,
   "metadata": {},
   "outputs": [],
   "source": [
    "norm.cdf(3) - norm.cdf(-3)"
   ]
  },
  {
   "cell_type": "markdown",
   "metadata": {},
   "source": [
    "### Exercício 1\n",
    "**Exemplo 4-15 Montgomery:**\n",
    "\n",
    "Assuma que, na deteção de um sinal digital, o ruído de fundo segue uma distribuição normal com média $0 V$ e desvio padrão de $0.45 V$. O sistema assume que um dígito $1$  foi transmitido quando a tensão ultrapassa $0.9V$. Qual a probabilidade de detectar um sinal digital $1$ sem que nenhum tenha sido recebido? "
   ]
  },
  {
   "cell_type": "markdown",
   "metadata": {},
   "source": [
    "** Resposta:**\n",
    "\n",
    "Vamos chamar a variável aleatória de $T$. O que queremos é $P(T > 0.9) = 1 - P(T<0.9)$ "
   ]
  },
  {
   "cell_type": "code",
   "execution_count": null,
   "metadata": {},
   "outputs": [],
   "source": []
  },
  {
   "cell_type": "markdown",
   "metadata": {},
   "source": [
    "Defina níveis de tensão ao redor de zero que incluam $99\\%$ das leituras quando não há bit $1$ sendo transmitido."
   ]
  },
  {
   "cell_type": "code",
   "execution_count": null,
   "metadata": {},
   "outputs": [],
   "source": []
  },
  {
   "cell_type": "markdown",
   "metadata": {},
   "source": [
    "Os limites seriam [-1.159, 1.159]"
   ]
  },
  {
   "cell_type": "markdown",
   "metadata": {},
   "source": [
    "Suponha que, quando de fato há transmissão de um sinal binário $1$ na linha, a média da distribuição do ruído se desloca para $1.8 V$. (Por que?) Qual a probabilidade de não detectar um sinal 1?"
   ]
  },
  {
   "cell_type": "markdown",
   "metadata": {},
   "source": [
    "Vamos assumir o limiar dado de $0.9V$ a partir do qual consideramos que foi recebido um $1$ binário. Também vamos assumir que o desvio padrão se mantém"
   ]
  },
  {
   "cell_type": "code",
   "execution_count": null,
   "metadata": {},
   "outputs": [],
   "source": []
  },
  {
   "cell_type": "markdown",
   "metadata": {},
   "source": [
    "### Exercício 2\n",
    "**Exemplo 4-13 Montgomery**\n",
    "\n",
    "Assuma que a medida de corrente num pedaço de fio condutor segue uma distribuição normal com média de 10 $mA$ e variância de 4 $mA^2$. \n",
    "\n",
    "Qual a probabilidade de ter uma medida que excede $13 mA$? Queremos: $P(X>13)$"
   ]
  },
  {
   "cell_type": "code",
   "execution_count": null,
   "metadata": {},
   "outputs": [],
   "source": []
  },
  {
   "cell_type": "markdown",
   "metadata": {},
   "source": [
    "Qual a probabilidade de uma medida entre $9 mA$ e $11 mA$? "
   ]
  },
  {
   "cell_type": "code",
   "execution_count": null,
   "metadata": {},
   "outputs": [],
   "source": []
  },
  {
   "cell_type": "markdown",
   "metadata": {},
   "source": [
    "Qual o valor $x$ abaixo do qual há $30\\%$ de probabilidade de haver leitura?"
   ]
  },
  {
   "cell_type": "code",
   "execution_count": null,
   "metadata": {},
   "outputs": [],
   "source": []
  },
  {
   "cell_type": "markdown",
   "metadata": {},
   "source": [
    "### Exercício 3\n",
    "\n",
    "** 4-72 Mont**\n",
    "\n",
    "O tempo sem precisar de recarga para bateria de um laptop em condições normais é distribuído conforme uma normal com média de $260 min.$ e desvio padrão de $50 min$\n",
    "\n",
    "1. Qual a probabilidade que a bateria dure mais de 4 horas?\n",
    "1. Quais são os quartis da vida média de bateria? (encontre Q1 e Q3)\n",
    "1. Qual o valor de duração de bateria que é atendido em pelo menos 95% das situações?"
   ]
  },
  {
   "cell_type": "code",
   "execution_count": null,
   "metadata": {},
   "outputs": [],
   "source": []
  },
  {
   "cell_type": "markdown",
   "metadata": {},
   "source": [
    "### Exercício 4\n",
    "\n",
    "**4-74 Mont**\n",
    "\n",
    "Colesterol é um ácido graxo que é componente importante da membrana das células dos animais. A faixa normal para um adulto é entre $120-240 mg/dl$. O Instituto de Nutrição e Saúde das Filipinas descobriu que os adultos daquele país têm média de 159.2 mg/dl e 84.1% dos adultos têm um nível de menos que 200 mg/dl. Suponha que o colesterol é distribuído normalmente\n",
    "\n",
    "1. Encontre o desvio padrão desta distribuição\n",
    "2. Quais são os quartis da distribuição?\n",
    "3. Qual o valor de colesterol excedido por 90% da população?\n",
    "1. Um adulto tem risco moderado se está mais que 2 desvios padrão acima da média. Qual a porcentagem da população que está em risco?\n"
   ]
  },
  {
   "cell_type": "code",
   "execution_count": null,
   "metadata": {},
   "outputs": [],
   "source": []
  },
  {
   "cell_type": "markdown",
   "metadata": {},
   "source": [
    "### Exercício 5\n",
    "\n",
    "As notas no quiz final de Ciência dos Dados distribuem-se segundo uma variável aleatória normal com média 6,5 e desvio padrão 1,6. O professor deseja dividir a classe em 3 categorias, da seguinte forma: os 30% que tiveram as melhores notas serão aprovados, os 50% com notas intermediárias ficarão de exame e os 20% que tiveram as piores notas serão reprovados. \n",
    "\n",
    "1. Quais os limites de nota entre cada uma das categorias?\n",
    "\n",
    "2. Caso a nota para aprovação (sem ir para exame) fosse igual a 7,0 e uma turma tivesse 50 alunos, quantos desses seriam aprovados, em média, sem ir para o exame? "
   ]
  },
  {
   "cell_type": "code",
   "execution_count": null,
   "metadata": {},
   "outputs": [],
   "source": []
  },
  {
   "cell_type": "markdown",
   "metadata": {},
   "source": [
    "### Exercício 6\n",
    "\n",
    "![](uzumaki_momochi.png)\n",
    "\n",
    "(esta questão caiu na P1 2016)\n",
    "\n",
    "Você foi selecionado para comprar projetores para sua empresa. Depois de uma pesquisa extensa no mercado, a decisão final será tomada entre modelos de duas marcas: *Uzumaki* e *Momochi*.\n",
    "\n",
    "Os modelos da marca Uzumaki têm um tempo de duração da lâmpada que pode ser modelado com uma distribuição normal com média de 675 horas e um desvio padrão de 125\n",
    "\n",
    "Os modelos da marca Momochi pode ser modelados por uma normal com média de 625 horas e um desvio padrão de 200.\n",
    "\n",
    "\n",
    "a)\tA meta de duração para as lâmpadas é de 830 horas. Qual marca de projetor você compraria baseado na probabilidade de cada um atingir a meta de duração? Justifique os cálculos  (1,50 ponto)\n",
    "\n",
    "b)\tAssuma, independentemente da resposta de (a), que você comprou um projetor Uzumaki e que ele já durou 675 horas. Qual a probabilidade deste projetor então durar até 925 horas? (1,0 ponto)\n",
    "\n",
    "c)\tQual a probabilidade de um projetor Momochi durar até 300 horas? (0,5 ponto)"
   ]
  },
  {
   "cell_type": "code",
   "execution_count": null,
   "metadata": {},
   "outputs": [],
   "source": []
  },
  {
   "cell_type": "markdown",
   "metadata": {},
   "source": [
    "### Exercício 7 "
   ]
  },
  {
   "cell_type": "markdown",
   "metadata": {},
   "source": [
    "Você recebeu o arquivo `dados_normal_1000.txt` com dados de concentração (em $\\mu g/L$) de um determinado poluente em um tanque de combustível\n",
    "\n",
    "Pede-se:\n",
    "\n",
    "1. Visualize o histograma dos dados\n",
    "1. Usando um plot de probabilidade, ou QQ-Plot, verifique se os dados aparentam seguir uma distribuição normal\n",
    "1. Realize o `fit`  de uma distribuição normal, e faça o plot da `pdf` sobre o histograma de densidade da distribuição"
   ]
  },
  {
   "cell_type": "code",
   "execution_count": null,
   "metadata": {},
   "outputs": [],
   "source": [
    "dados = \"\"\n",
    "with open(\"dados_normal_1000.txt\") as f:\n",
    "    dados = \" \".join(f.readlines()) "
   ]
  },
  {
   "cell_type": "code",
   "execution_count": null,
   "metadata": {},
   "outputs": [],
   "source": [
    "dados_float = [float(val) for val in dados.split()]"
   ]
  },
  {
   "cell_type": "code",
   "execution_count": null,
   "metadata": {},
   "outputs": [],
   "source": []
  }
 ],
 "metadata": {
  "kernelspec": {
   "display_name": "Python 3",
   "language": "python",
   "name": "python3"
  },
  "language_info": {
   "codemirror_mode": {
    "name": "ipython",
    "version": 3
   },
   "file_extension": ".py",
   "mimetype": "text/x-python",
   "name": "python",
   "nbconvert_exporter": "python",
   "pygments_lexer": "ipython3",
   "version": "3.6.4"
  }
 },
 "nbformat": 4,
 "nbformat_minor": 2
}
