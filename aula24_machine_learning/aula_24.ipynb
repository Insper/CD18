{
 "cells": [
  {
   "cell_type": "code",
   "execution_count": 134,
   "metadata": {},
   "outputs": [],
   "source": [
    "%matplotlib inline\n",
    "import numpy as np\n",
    "import pandas as pd\n",
    "import matplotlib\n",
    "import matplotlib.pyplot as plt\n",
    "\n",
    "RANDOM_SEED = 42\n",
    "\n",
    "np.random.seed(RANDOM_SEED)"
   ]
  },
  {
   "cell_type": "markdown",
   "metadata": {},
   "source": [
    "# Scikit-Learn\n",
    "\n",
    "A principal biblioteca para Machine Learning em Python chama-se Scikit-Learn, ou de modo abreviado `sklearn`. Com esta biblioteca podemos construir modelos de aprendizado de máquina bem sofisticados, exceto para *deep learning*, onde outras bibliotecas são usadas (e.g. Keras, Theano, TensorFlow).\n",
    "\n",
    "Visite a página do Scikit-Learn para conhecer mais: http://scikit-learn.org/stable/\n",
    "\n",
    "Instale o `sklearn` na sua máquina com o comando:\n",
    "\n",
    "```conda install scikit-learn```\n",
    "\n",
    "Vamos demonstrar o uso da biblioteca `sklearn` em um problema familiar: classificação de tweets via Naive Bayes!\n",
    "\n",
    "Vamos ler os dados (doados por um de seus colegas):"
   ]
  },
  {
   "cell_type": "code",
   "execution_count": 135,
   "metadata": {},
   "outputs": [],
   "source": [
    "dados_train = pd.read_excel('tweets nescau classificação verificação.xlsx', sheet_name ='Treinamento')\n",
    "dados_test = pd.read_excel('tweets nescau classificação verificação.xlsx', sheet_name ='Teste')\n",
    "\n",
    "X_train = dados_train['Treinamento']\n",
    "y_train = dados_train['Classificação']\n",
    "X_test = dados_test['Teste']\n",
    "y_test = dados_test['Classificação']"
   ]
  },
  {
   "cell_type": "markdown",
   "metadata": {},
   "source": [
    "Agora vamos construir um classificador Naive-Bayes e treiná-lo com o conjunto de treinamento:"
   ]
  },
  {
   "cell_type": "code",
   "execution_count": 137,
   "metadata": {},
   "outputs": [
    {
     "data": {
      "text/plain": [
       "Pipeline(memory=None,\n",
       "     steps=[('vectorizer', CountVectorizer(analyzer='word', binary=False, decode_error='strict',\n",
       "        dtype=<class 'numpy.int64'>, encoding='utf-8', input='content',\n",
       "        lowercase=True, max_df=1.0, max_features=None, min_df=1,\n",
       "        ngram_range=(1, 1), preprocessor=None, stop_words=None,\n",
       "        strip_accents=None, token_pattern='(?u)\\\\b\\\\w\\\\w+\\\\b',\n",
       "        tokenizer=None, vocabulary=None)), ('classifier', MultinomialNB(alpha=1.0, class_prior=None, fit_prior=True))])"
      ]
     },
     "execution_count": 137,
     "metadata": {},
     "output_type": "execute_result"
    }
   ],
   "source": [
    "from sklearn.feature_extraction.text import CountVectorizer\n",
    "from sklearn.metrics import accuracy_score\n",
    "from sklearn.naive_bayes import MultinomialNB\n",
    "from sklearn.pipeline import Pipeline\n",
    "\n",
    "# Cria modelo.\n",
    "model = Pipeline([\n",
    "    (\"vectorizer\", CountVectorizer()),\n",
    "    (\"classifier\", MultinomialNB())\n",
    "])\n",
    "\n",
    "# Treina modelo.\n",
    "model.fit(X_train, y_train)"
   ]
  },
  {
   "cell_type": "markdown",
   "metadata": {},
   "source": [
    "Vamos agora testar a acurácia do modelo:"
   ]
  },
  {
   "cell_type": "code",
   "execution_count": 138,
   "metadata": {},
   "outputs": [
    {
     "name": "stdout",
     "output_type": "stream",
     "text": [
      "Acurácia: 0.84\n"
     ]
    }
   ],
   "source": [
    "# Testa modelo.\n",
    "y_pred = model.predict(X_test)\n",
    "\n",
    "# Calcula acurácia.\n",
    "acc = accuracy_score(y_test, y_pred)\n",
    "\n",
    "print(\"Acurácia: {}\".format(acc))"
   ]
  },
  {
   "cell_type": "markdown",
   "metadata": {},
   "source": [
    "Podemos usar o modelo para testar novos tweets à respeito do produto:"
   ]
  },
  {
   "cell_type": "code",
   "execution_count": 139,
   "metadata": {},
   "outputs": [
    {
     "name": "stdout",
     "output_type": "stream",
     "text": [
      "[1 1 0]\n"
     ]
    }
   ],
   "source": [
    "print(model.predict(['Nescau é alegria!', 'Nescau é pior que Toddy', 'Alguém viu meu laptop?']))"
   ]
  },
  {
   "cell_type": "markdown",
   "metadata": {},
   "source": [
    "Podemos também verificar o quão confiante o classificador está à respeito da decisão:"
   ]
  },
  {
   "cell_type": "code",
   "execution_count": 141,
   "metadata": {},
   "outputs": [
    {
     "name": "stdout",
     "output_type": "stream",
     "text": [
      "[[0.36304858 0.63695142]\n",
      " [0.00476114 0.99523886]\n",
      " [0.86088423 0.13911577]]\n"
     ]
    }
   ],
   "source": [
    "print(model.predict_proba(['Nescau é alegria!', 'Nescau é pior que Toddy', 'Alguém viu meu laptop?']))"
   ]
  },
  {
   "cell_type": "markdown",
   "metadata": {},
   "source": [
    "Estes números representam a probabilidade de que a sentença pertença a cada uma das classes."
   ]
  },
  {
   "cell_type": "markdown",
   "metadata": {},
   "source": [
    "**Atividade:** Aplique esta técnica ao seu próprio conjunto de tweets. Compare com a acurácia que você obteve em seu projeto."
   ]
  },
  {
   "cell_type": "code",
   "execution_count": null,
   "metadata": {},
   "outputs": [],
   "source": []
  },
  {
   "cell_type": "markdown",
   "metadata": {},
   "source": [
    "# Iris\n",
    "\n",
    "Vamos usar como exemplo um dos datasets mais famosos da estatística: a coleção de dados sobre flores do tipo Iris, [usada por R.A Fisher](https://en.wikipedia.org/wiki/Iris_flower_data_set) para desenvolver os fundamentos da teoria de aprendizado estatístico. O Scikit-Learn já vem com esse dataset embutido, para facilitar nossos experimentos!"
   ]
  },
  {
   "cell_type": "code",
   "execution_count": 142,
   "metadata": {},
   "outputs": [
    {
     "name": "stdout",
     "output_type": "stream",
     "text": [
      "Iris Plants Database\n",
      "====================\n",
      "\n",
      "Notes\n",
      "-----\n",
      "Data Set Characteristics:\n",
      "    :Number of Instances: 150 (50 in each of three classes)\n",
      "    :Number of Attributes: 4 numeric, predictive attributes and the class\n",
      "    :Attribute Information:\n",
      "        - sepal length in cm\n",
      "        - sepal width in cm\n",
      "        - petal length in cm\n",
      "        - petal width in cm\n",
      "        - class:\n",
      "                - Iris-Setosa\n",
      "                - Iris-Versicolour\n",
      "                - Iris-Virginica\n",
      "    :Summary Statistics:\n",
      "\n",
      "    ============== ==== ==== ======= ===== ====================\n",
      "                    Min  Max   Mean    SD   Class Correlation\n",
      "    ============== ==== ==== ======= ===== ====================\n",
      "    sepal length:   4.3  7.9   5.84   0.83    0.7826\n",
      "    sepal width:    2.0  4.4   3.05   0.43   -0.4194\n",
      "    petal length:   1.0  6.9   3.76   1.76    0.9490  (high!)\n",
      "    petal width:    0.1  2.5   1.20  0.76     0.9565  (high!)\n",
      "    ============== ==== ==== ======= ===== ====================\n",
      "\n",
      "    :Missing Attribute Values: None\n",
      "    :Class Distribution: 33.3% for each of 3 classes.\n",
      "    :Creator: R.A. Fisher\n",
      "    :Donor: Michael Marshall (MARSHALL%PLU@io.arc.nasa.gov)\n",
      "    :Date: July, 1988\n",
      "\n",
      "This is a copy of UCI ML iris datasets.\n",
      "http://archive.ics.uci.edu/ml/datasets/Iris\n",
      "\n",
      "The famous Iris database, first used by Sir R.A Fisher\n",
      "\n",
      "This is perhaps the best known database to be found in the\n",
      "pattern recognition literature.  Fisher's paper is a classic in the field and\n",
      "is referenced frequently to this day.  (See Duda & Hart, for example.)  The\n",
      "data set contains 3 classes of 50 instances each, where each class refers to a\n",
      "type of iris plant.  One class is linearly separable from the other 2; the\n",
      "latter are NOT linearly separable from each other.\n",
      "\n",
      "References\n",
      "----------\n",
      "   - Fisher,R.A. \"The use of multiple measurements in taxonomic problems\"\n",
      "     Annual Eugenics, 7, Part II, 179-188 (1936); also in \"Contributions to\n",
      "     Mathematical Statistics\" (John Wiley, NY, 1950).\n",
      "   - Duda,R.O., & Hart,P.E. (1973) Pattern Classification and Scene Analysis.\n",
      "     (Q327.D83) John Wiley & Sons.  ISBN 0-471-22361-1.  See page 218.\n",
      "   - Dasarathy, B.V. (1980) \"Nosing Around the Neighborhood: A New System\n",
      "     Structure and Classification Rule for Recognition in Partially Exposed\n",
      "     Environments\".  IEEE Transactions on Pattern Analysis and Machine\n",
      "     Intelligence, Vol. PAMI-2, No. 1, 67-71.\n",
      "   - Gates, G.W. (1972) \"The Reduced Nearest Neighbor Rule\".  IEEE Transactions\n",
      "     on Information Theory, May 1972, 431-433.\n",
      "   - See also: 1988 MLC Proceedings, 54-64.  Cheeseman et al\"s AUTOCLASS II\n",
      "     conceptual clustering system finds 3 classes in the data.\n",
      "   - Many, many more ...\n",
      "\n"
     ]
    }
   ],
   "source": [
    "from sklearn import datasets\n",
    "iris = datasets.load_iris()\n",
    "print(iris.DESCR)"
   ]
  },
  {
   "cell_type": "markdown",
   "metadata": {},
   "source": [
    "Em *machine learning* a variável dependente também é conhecida como *target*:"
   ]
  },
  {
   "cell_type": "code",
   "execution_count": 143,
   "metadata": {},
   "outputs": [
    {
     "name": "stdout",
     "output_type": "stream",
     "text": [
      "['setosa' 'versicolor' 'virginica']\n"
     ]
    }
   ],
   "source": [
    "print(iris.target_names)"
   ]
  },
  {
   "cell_type": "markdown",
   "metadata": {},
   "source": [
    "Costuma-se denominar as variáveis independentes de 'característica', ou *feature*:"
   ]
  },
  {
   "cell_type": "code",
   "execution_count": 144,
   "metadata": {},
   "outputs": [
    {
     "name": "stdout",
     "output_type": "stream",
     "text": [
      "['sepal length (cm)', 'sepal width (cm)', 'petal length (cm)', 'petal width (cm)']\n"
     ]
    }
   ],
   "source": [
    "print(iris.feature_names)"
   ]
  },
  {
   "cell_type": "markdown",
   "metadata": {},
   "source": [
    "Vamos selecionar apenas as duas últimas características da lista ('petal length (cm)' e 'petal width (cm)') para nosso experimento."
   ]
  },
  {
   "cell_type": "code",
   "execution_count": 145,
   "metadata": {},
   "outputs": [
    {
     "name": "stdout",
     "output_type": "stream",
     "text": [
      "<class 'numpy.ndarray'>\n",
      "(150, 2)\n",
      "float64\n",
      "[[1.4 0.2]\n",
      " [1.4 0.2]\n",
      " [1.3 0.2]\n",
      " [1.5 0.2]\n",
      " [1.4 0.2]]\n"
     ]
    }
   ],
   "source": [
    "X = iris.data[:, 2:4]\n",
    "print(type(X))\n",
    "print(X.shape)\n",
    "print(X.dtype)\n",
    "print(X[:5])"
   ]
  },
  {
   "cell_type": "markdown",
   "metadata": {},
   "source": [
    "Nosso objetivo é construir um modelo de classificação que separe as flores do tipo Virginica das demais. Para isso, vamos construir uma variável *target* que vale `True` para Virginicas, e `False` caso contrário. Em Numpy isso é simples, nada de loops `for` feios!"
   ]
  },
  {
   "cell_type": "code",
   "execution_count": 147,
   "metadata": {},
   "outputs": [],
   "source": [
    "y = iris.target == 2"
   ]
  },
  {
   "cell_type": "code",
   "execution_count": 148,
   "metadata": {},
   "outputs": [
    {
     "name": "stdout",
     "output_type": "stream",
     "text": [
      "<class 'numpy.ndarray'>\n",
      "(150,)\n",
      "bool\n",
      "[False False False False False]\n"
     ]
    }
   ],
   "source": [
    "print(type(y))\n",
    "print(y.shape)\n",
    "print(y.dtype)\n",
    "print(y[:5])"
   ]
  },
  {
   "cell_type": "markdown",
   "metadata": {},
   "source": [
    "Vamos visualizar as duas categorias em um *scatter plot*:"
   ]
  },
  {
   "cell_type": "code",
   "execution_count": 149,
   "metadata": {},
   "outputs": [
    {
     "data": {
      "image/png": "[encoded data removed]",
      "text/plain": [
       "<Figure size 432x288 with 1 Axes>"
      ]
     },
     "metadata": {},
     "output_type": "display_data"
    }
   ],
   "source": [
    "X_pos = X[y, :]\n",
    "X_neg = X[~y, :]\n",
    "\n",
    "plt.scatter(X_pos[:, 0], X_pos[:, 1], color='r', label='Virginica')\n",
    "plt.scatter(X_neg[:, 0], X_neg[:, 1], color='b', label='Não Virginica')\n",
    "plt.xlabel('petal length (cm)')\n",
    "plt.ylabel('petal width (cm)')\n",
    "plt.legend();"
   ]
  },
  {
   "cell_type": "markdown",
   "metadata": {},
   "source": [
    "Se uma flor tiver comprimento petal de $5 cm$ e largura petal de $1,2 cm$, ela deve ser uma Iris Virginica ou não? Como treinar o computador para identificar o tipo de flor a partir dos nossos exemplos?\n",
    "\n",
    "**Atividade:** Plote essa nova flor na cor verde no gráfico de dispersão acima (copie e cole o código)."
   ]
  },
  {
   "cell_type": "code",
   "execution_count": null,
   "metadata": {},
   "outputs": [],
   "source": []
  },
  {
   "cell_type": "markdown",
   "metadata": {},
   "source": [
    "# Separando treinamento e teste\n",
    "\n",
    "Temos que dividir nosso conjunto de exemplos em duas partes: um conjunto de treinamento e um conjunto de testes. \n",
    "\n",
    "Por que? \n",
    "\n",
    "Pela mesma razão pela qual os professores não cobram na prova **literalmente** os mesmos exercícios que passamos em sala de aula, mas sim exercícios similares, de mesmo conceito! Se cobrarmos exatamente os mesmos exercícios não estamos medindo a capacidade de vocês de *generalizar* um conceito aprendido, mas sim estaremos medindo apenas sua capacidade de memorização de texto! \n",
    "\n",
    "O mesmo vale para nossos modelos de aprendizado de máquina. Podemos dizer que o conjunto de treinamento é a APS para estudar para a prova, e o conjunto de testes é a prova!\n",
    "\n",
    "O `sklearn` já tem uma função para:\n",
    "\n",
    "- Embaralhar as amostras de exemplo, e\n",
    "- Separar os conjuntos de treinamento e teste."
   ]
  },
  {
   "cell_type": "code",
   "execution_count": 150,
   "metadata": {},
   "outputs": [],
   "source": [
    "from sklearn.model_selection import train_test_split\n",
    "X_train, X_test, y_train, y_test = train_test_split(X, y, test_size=0.33, random_state=RANDOM_SEED)"
   ]
  },
  {
   "cell_type": "markdown",
   "metadata": {},
   "source": [
    "(Nota: este argumento `random_state=RANDOM_SEED` não é necessário em geral, só usamos aqui para garantir o mesmo resultado toda vez que rodarmos esse notebook, ok?)"
   ]
  },
  {
   "cell_type": "code",
   "execution_count": 151,
   "metadata": {},
   "outputs": [
    {
     "data": {
      "text/plain": [
       "((100, 2), (100,), (50, 2), (50,))"
      ]
     },
     "execution_count": 151,
     "metadata": {},
     "output_type": "execute_result"
    }
   ],
   "source": [
    "X_train.shape, y_train.shape, X_test.shape, y_test.shape"
   ]
  },
  {
   "cell_type": "markdown",
   "metadata": {},
   "source": [
    "**Atividade:** Verifique se a proporção de tipos de flor no conjunto de treinamento é similar à proporção no conjunto de testes."
   ]
  },
  {
   "cell_type": "code",
   "execution_count": null,
   "metadata": {},
   "outputs": [],
   "source": []
  },
  {
   "cell_type": "markdown",
   "metadata": {},
   "source": [
    "**ATENÇÃO: A PARTIR DE AGORA O CONJUNTO DE TESTES É INVIOLÁVEL!** Não olhe para ele, não respire perto dele, esqueça que ele existe! Você pode explorar o conjunto de treinamento o quanto quiser (estatística descritiva, testes de hipótese, etc), mas não mexa no conjunto de testes. Ele só deve ser usado no último instante, para calcular a acurácia definitiva do seu modelo.\n",
    "\n",
    "**Atividade:** Por que esse tabu com o conjunto de testes? Pense na analogia da prova."
   ]
  },
  {
   "cell_type": "markdown",
   "metadata": {},
   "source": [
    "**R:**"
   ]
  },
  {
   "cell_type": "markdown",
   "metadata": {},
   "source": [
    "Vamos agora construir e treinar um modelo chamado \"Regressão Logística\". \n",
    "\n",
    "Funciona assim: Vamos imaginar que a probabilidade de que uma amostra pertença à categoria $1$ (ou 'positiva', ou 'relevante', como quiser) seja $p$, e consequentemente a probabilidade de que uma amostra pertença à categoria oposta ($0$, ou 'negativa', ou 'irrelevante, etc) será $1 - p$:\n",
    "\n",
    "$$Prob(y = 1 | X = x) = p$$\n",
    "\n",
    "e\n",
    "\n",
    "$$Prob(y = 0 | X = x) = 1 - p$$\n",
    "\n",
    "onde $X = (x_1, x_2)$, por exemplo. Podemos representar quão grande é a chance de $y = 1$ em relação à chance de $y = 0$ simplesmente obtendo a razão entre elas (*odds*):\n",
    "\n",
    "$$odds = \\frac{Prob(y = 1 | X = x)}{Prob(y = 0 | X = x)} = \\frac{p}{1 - p}$$\n",
    "\n",
    "Por exemplo, numa roleta de cassino a chance de perder é $36/37$ e a chance de ganhar é $1/37$, logo $odds = 1 \\text{ para } 36$. \n",
    "\n",
    "No modelo de regressão logística, vamos fazer algo parecido com a regressão linear, mas desta vez a variável dependente será o logaritmo da chance (chamado de \"logito\"):\n",
    "\n",
    "$$\\log{\\left(\\frac{p}{1 - p}\\right)} = \\beta_0 + \\beta_1 x_1 + \\beta_2 x_2$$\n",
    "\n",
    "Com um pouco de álgebra (aplica função exponencial dos dois lados, isola $p$) chegamos na seguinte expressão:\n",
    "\n",
    "$$Prob(y = 1 | X = x) = \\frac{1}{1 + e^{-\\left(\\beta_0 + \\beta_1 x_1 + \\beta_2 x_2\\right)}}$$\n",
    "\n",
    "Esta função é conhecida como **função logística**. Eis a cara da função logística padrão:\n",
    "\n",
    "$$f(x) = \\frac{1}{1 + e^{-x}}$$"
   ]
  },
  {
   "cell_type": "code",
   "execution_count": 106,
   "metadata": {},
   "outputs": [
    {
     "data": {
      "image/png": "[encoded data removed]",
      "text/plain": [
       "<Figure size 432x288 with 1 Axes>"
      ]
     },
     "metadata": {},
     "output_type": "display_data"
    }
   ],
   "source": [
    "x_logistica = np.linspace(-10, 10, 500)\n",
    "y_logistica = 1/(1 + np.exp(-x_logistica))\n",
    "\n",
    "plt.plot(x_logistica, y_logistica)\n",
    "plt.xlabel('x')\n",
    "plt.ylabel('y')\n",
    "plt.title('Função logística');"
   ]
  },
  {
   "cell_type": "markdown",
   "metadata": {},
   "source": [
    "Para usar este modelo para classificação basta definir um ponto de corte: se $Prob(y = 1 | X = x) > corte$ dizemos que a amostra pertence à classe $1$, caso contrário pertence à classe $0$. Normalmente usamos $corte = 0.5$.\n",
    "\n",
    "Treinar o modelo de regressão logística significa ajustar os valores de $\\beta_i$ tal que a acurácia seja maximizada. Felizmente o Scikit-Learn faz isso facilmente para a gente:"
   ]
  },
  {
   "cell_type": "code",
   "execution_count": 152,
   "metadata": {},
   "outputs": [
    {
     "name": "stdout",
     "output_type": "stream",
     "text": [
      "Acurácia: 0.96\n"
     ]
    }
   ],
   "source": [
    "from sklearn.linear_model import LogisticRegression\n",
    "\n",
    "model = LogisticRegression()\n",
    "model.fit(X_train, y_train)\n",
    "y_pred = model.predict(X_test)\n",
    "print('Acurácia: {}'.format(accuracy_score(y_test, y_pred)))"
   ]
  },
  {
   "cell_type": "markdown",
   "metadata": {},
   "source": [
    "Parece que o modelo tem grande acurácia na discriminação entre Iris Virginica e outros tipos! Podemos agora usar o nosso modelo para decidir se a flor do início desta seção é ou não uma Iris Virginica:"
   ]
  },
  {
   "cell_type": "code",
   "execution_count": 153,
   "metadata": {},
   "outputs": [
    {
     "name": "stdout",
     "output_type": "stream",
     "text": [
      "[False]\n"
     ]
    }
   ],
   "source": [
    "print(model.predict([[5, 1.2]]))"
   ]
  },
  {
   "cell_type": "markdown",
   "metadata": {},
   "source": [
    "A flor não é uma Iris Virginica.\n",
    "\n",
    "## Trocando de modelo\n",
    "\n",
    "Com Scikit-Learn é fácil testar outros modelos. Vamos experimentar com um modelo chamado \"Random Forests\":"
   ]
  },
  {
   "cell_type": "code",
   "execution_count": 120,
   "metadata": {},
   "outputs": [
    {
     "name": "stdout",
     "output_type": "stream",
     "text": [
      "Acurácia: 1.0\n"
     ]
    }
   ],
   "source": [
    "from sklearn.ensemble import RandomForestClassifier\n",
    "\n",
    "# Atividade: Tente escrever você mesmo o código de criação, treinamento e teste do modelo.\n"
   ]
  },
  {
   "cell_type": "markdown",
   "metadata": {},
   "source": [
    "Nada mal!"
   ]
  },
  {
   "cell_type": "markdown",
   "metadata": {},
   "source": [
    "# MNIST\n",
    "\n",
    "(Esta seção usa material adaptado do livro \"Hands-On Machine Leaning with Scikit-Learn and TensorFlow\", de Aurélien Géron.)\n",
    "\n",
    "Neste último exemplo a base de dados que utilizaremos é conhecida como MNIST (\"Modified National Institute of Standards and Technology\"), e deriva de uma base maior que foi construida pela NIST nos Estados Unidos (o equivalente da nossa ABNT). Esta base de dados é considerada o verdadeiro \"Hello, world!\" de métodos de classificação. Em http://yann.lecun.com/exdb/mnist/ temos uma descrição mais detalhada desta base de dados.\n",
    "\n",
    "O scikit-learn já tem ferramentas para baixar e disponibilizar alguns dos datasets mais comuns da comunidade de machine learning, incluindo o MNIST:"
   ]
  },
  {
   "cell_type": "code",
   "execution_count": 154,
   "metadata": {},
   "outputs": [
    {
     "data": {
      "text/plain": [
       "{'DESCR': 'mldata.org dataset: mnist-original',\n",
       " 'COL_NAMES': ['label', 'data'],\n",
       " 'target': array([0., 0., 0., ..., 9., 9., 9.]),\n",
       " 'data': array([[0, 0, 0, ..., 0, 0, 0],\n",
       "        [0, 0, 0, ..., 0, 0, 0],\n",
       "        [0, 0, 0, ..., 0, 0, 0],\n",
       "        ...,\n",
       "        [0, 0, 0, ..., 0, 0, 0],\n",
       "        [0, 0, 0, ..., 0, 0, 0],\n",
       "        [0, 0, 0, ..., 0, 0, 0]], dtype=uint8)}"
      ]
     },
     "execution_count": 154,
     "metadata": {},
     "output_type": "execute_result"
    }
   ],
   "source": [
    "from sklearn.datasets import fetch_mldata\n",
    "mnist = fetch_mldata('MNIST original')\n",
    "mnist"
   ]
  },
  {
   "cell_type": "markdown",
   "metadata": {},
   "source": [
    "No campo `data` temos as várias imagens de dígitos manuscritos. Cada item é uma lista de $28^2 = 784$ valores, que são os valores dos pixels - as imagens são todas $28 \\times 28$.\n",
    "\n",
    "No campo `target` temos o rótulo de cada uma dessas imagens."
   ]
  },
  {
   "cell_type": "code",
   "execution_count": 155,
   "metadata": {},
   "outputs": [
    {
     "name": "stdout",
     "output_type": "stream",
     "text": [
      "(70000, 784)\n",
      "(70000,)\n"
     ]
    }
   ],
   "source": [
    "X = mnist['data']\n",
    "y = mnist['target']\n",
    "print(X.shape)\n",
    "print(y.shape)"
   ]
  },
  {
   "cell_type": "markdown",
   "metadata": {},
   "source": [
    "**Atividade:** Quantas *features* (variáveis independentes) temos neste problema?"
   ]
  },
  {
   "cell_type": "markdown",
   "metadata": {},
   "source": [
    "**R:**"
   ]
  },
  {
   "cell_type": "markdown",
   "metadata": {},
   "source": [
    "**Atividade:** A variável dependente é discreta ou contínua? Categórica ou ordinal? "
   ]
  },
  {
   "cell_type": "markdown",
   "metadata": {},
   "source": [
    "**R:**"
   ]
  },
  {
   "cell_type": "markdown",
   "metadata": {},
   "source": [
    "**Atividade:** Quantas classes temos neste problema?"
   ]
  },
  {
   "cell_type": "markdown",
   "metadata": {},
   "source": [
    "**R:**"
   ]
  },
  {
   "cell_type": "markdown",
   "metadata": {},
   "source": [
    "Vamos ver um desses dígitos manuscritos para checar se a leitura de dados funcionou:"
   ]
  },
  {
   "cell_type": "code",
   "execution_count": 156,
   "metadata": {},
   "outputs": [
    {
     "name": "stdout",
     "output_type": "stream",
     "text": [
      "label: 5.0\n"
     ]
    },
    {
     "data": {
      "image/png": "[encoded data removed]",
      "text/plain": [
       "<Figure size 432x288 with 1 Axes>"
      ]
     },
     "metadata": {},
     "output_type": "display_data"
    }
   ],
   "source": [
    "some_digit = X[36000]\n",
    "some_digit_label = y[36000]\n",
    "\n",
    "print('label: {}'.format(some_digit_label))\n",
    "\n",
    "some_digit_image = some_digit.reshape(28, 28)\n",
    "plt.imshow(some_digit_image, cmap=matplotlib.cm.binary, interpolation='nearest')\n",
    "plt.show()"
   ]
  },
  {
   "cell_type": "markdown",
   "metadata": {},
   "source": [
    "Parece que deu certo: pela imagem trata-se de um dígito $5$ manuscrito, e de fato o rótulo confirma essa observação."
   ]
  },
  {
   "cell_type": "markdown",
   "metadata": {},
   "source": [
    "# Separando treinamento e teste"
   ]
  },
  {
   "cell_type": "markdown",
   "metadata": {},
   "source": [
    "Conforme visto na descrição do dataset MNIST, a separação entre conjunto de treinamento e teste já está feita. Neste caso, não devemos fazer a separação dos dados conforme visto na aula passada. Outro ponto notável desta base: os exemplos estão organizados por dígito. Isso é ruim para certos algoritmos de machine learning, vamos resolver esse problema daqui a pouco. Para ilustrar tudo isso, veja como os *labels* estão arranjados:"
   ]
  },
  {
   "cell_type": "code",
   "execution_count": 157,
   "metadata": {
    "scrolled": true
   },
   "outputs": [
    {
     "data": {
      "image/png": "[encoded data removed]",
      "text/plain": [
       "<Figure size 432x288 with 1 Axes>"
      ]
     },
     "metadata": {},
     "output_type": "display_data"
    }
   ],
   "source": [
    "plt.plot(mnist['target'])\n",
    "plt.show()"
   ]
  },
  {
   "cell_type": "markdown",
   "metadata": {},
   "source": [
    "Os primeiros 60000 exemplos são o conjunto de treinamento, e estão organizados por dígito. Os últimos 10000 exemplos são o conjunto de teste, e também estão organizados por dígito."
   ]
  },
  {
   "cell_type": "code",
   "execution_count": 159,
   "metadata": {},
   "outputs": [],
   "source": [
    "X_train = X[:60000]\n",
    "y_train = y[:60000]\n",
    "\n",
    "X_test = X[60000:]\n",
    "y_test = y[60000:]"
   ]
  },
  {
   "cell_type": "markdown",
   "metadata": {},
   "source": [
    "Vamos ver mais alguns digitos desta base:"
   ]
  },
  {
   "cell_type": "code",
   "execution_count": 160,
   "metadata": {
    "scrolled": false
   },
   "outputs": [
    {
     "data": {
      "image/png": "[encoded data removed]",
      "text/plain": [
       "<Figure size 648x648 with 1 Axes>"
      ]
     },
     "metadata": {},
     "output_type": "display_data"
    }
   ],
   "source": [
    "def plot_digits(instances, images_per_row=10, **options):\n",
    "    size = 28\n",
    "    images_per_row = min(len(instances), images_per_row)\n",
    "    images = [instance.reshape(size,size) for instance in instances]\n",
    "    n_rows = (len(instances) - 1) // images_per_row + 1\n",
    "    row_images = []\n",
    "    n_empty = n_rows * images_per_row - len(instances)\n",
    "    images.append(np.zeros((size, size * n_empty)))\n",
    "    for row in range(n_rows):\n",
    "        rimages = images[row * images_per_row : (row + 1) * images_per_row]\n",
    "        row_images.append(np.concatenate(rimages, axis=1))\n",
    "    image = np.concatenate(row_images, axis=0)\n",
    "    plt.imshow(image, cmap = matplotlib.cm.binary, **options)\n",
    "    plt.axis(\"off\")\n",
    "\n",
    "plt.figure(figsize=(9,9))\n",
    "example_images = np.r_[X[:12000:600], X[13000:30600:600], X[30600:60000:590]]\n",
    "plot_digits(example_images, images_per_row=10)"
   ]
  },
  {
   "cell_type": "markdown",
   "metadata": {},
   "source": [
    "Alguns classificadores requerem que as amostras de treinamento estejam bem embaralhadas, ao invés de estarem organizadas por classe. Vamos embaralhar o conjunto de treinamento. Note que a mesma permutação que é aplicada à `X_train` deverá ser aplicada à `y_train`"
   ]
  },
  {
   "cell_type": "code",
   "execution_count": 161,
   "metadata": {},
   "outputs": [
    {
     "data": {
      "text/plain": [
       "[<matplotlib.lines.Line2D at 0x23809760048>]"
      ]
     },
     "execution_count": 161,
     "metadata": {},
     "output_type": "execute_result"
    },
    {
     "data": {
      "image/png": "[encoded data removed]",
      "text/plain": [
       "<Figure size 432x288 with 1 Axes>"
      ]
     },
     "metadata": {},
     "output_type": "display_data"
    }
   ],
   "source": [
    "plt.plot(y_train[::150])  # Antes de embaralhar."
   ]
  },
  {
   "cell_type": "code",
   "execution_count": 162,
   "metadata": {},
   "outputs": [],
   "source": [
    "shuffle_index = np.random.permutation(60000)\n",
    "X_train = X_train[shuffle_index]\n",
    "y_train = y_train[shuffle_index]"
   ]
  },
  {
   "cell_type": "code",
   "execution_count": 163,
   "metadata": {},
   "outputs": [
    {
     "data": {
      "text/plain": [
       "[<matplotlib.lines.Line2D at 0x2380854dc18>]"
      ]
     },
     "execution_count": 163,
     "metadata": {},
     "output_type": "execute_result"
    },
    {
     "data": {
      "image/png": "[encoded data removed]",
      "text/plain": [
       "<Figure size 432x288 with 1 Axes>"
      ]
     },
     "metadata": {},
     "output_type": "display_data"
    }
   ],
   "source": [
    "plt.plot(y_train[::150])  # Depois de embaralhar."
   ]
  },
  {
   "cell_type": "markdown",
   "metadata": {},
   "source": [
    "# Classificação binária"
   ]
  },
  {
   "cell_type": "markdown",
   "metadata": {},
   "source": [
    "Vamos começar com um problema mais simples: classificar os dígitos da base em 'cincos' e 'não-cincos'. Este é um problema de classificação binária, como o problema anterior das flores Iris. Por mera convenção, chamaremos de 'amostras positivas', ou simplemente 'positivos' os digitos $5$ e de 'negativos' os demais dígitos.\n",
    "\n",
    "Vamos adaptar os conjuntos de treinamento e teste ao nosso cenário:"
   ]
  },
  {
   "cell_type": "code",
   "execution_count": 164,
   "metadata": {},
   "outputs": [],
   "source": [
    "y_train_5 = (y_train == 5)\n",
    "y_test_5 = (y_test == 5)"
   ]
  },
  {
   "cell_type": "markdown",
   "metadata": {},
   "source": [
    "Verificando se funcionou:"
   ]
  },
  {
   "cell_type": "code",
   "execution_count": 165,
   "metadata": {},
   "outputs": [
    {
     "name": "stdout",
     "output_type": "stream",
     "text": [
      "5.0 -> True\n",
      "6.0 -> False\n",
      "5.0 -> True\n",
      "1.0 -> False\n",
      "1.0 -> False\n",
      "2.0 -> False\n",
      "1.0 -> False\n",
      "4.0 -> False\n",
      "1.0 -> False\n",
      "3.0 -> False\n",
      "7.0 -> False\n",
      "9.0 -> False\n",
      "0.0 -> False\n",
      "5.0 -> True\n",
      "2.0 -> False\n",
      "4.0 -> False\n",
      "3.0 -> False\n",
      "2.0 -> False\n",
      "2.0 -> False\n",
      "7.0 -> False\n"
     ]
    }
   ],
   "source": [
    "n = 20\n",
    "for original, binarized in zip(y_train[:n], y_train_5[:n]):\n",
    "    print('{} -> {}'.format(original, binarized))"
   ]
  },
  {
   "cell_type": "markdown",
   "metadata": {},
   "source": [
    "Vamos agora treinar um classificador sobre todo o conjunto de treinamento. Vamos usar um classificador chamado de *Stochastic Gradient Descent*, que é uma generalização de alguns tipos diferentes de classificadores mais tradicionais. O scikit-learn tem uma classe que implementa este classificador: `SGDClassifier`. Com os parâmetros *default* desta classe, o classificador SGD é equivalente a um classificador do tipo \"máquina de vetores de suporte linear\"."
   ]
  },
  {
   "cell_type": "code",
   "execution_count": 166,
   "metadata": {},
   "outputs": [
    {
     "data": {
      "text/plain": [
       "SGDClassifier(alpha=0.0001, average=False, class_weight=None, epsilon=0.1,\n",
       "       eta0=0.0, fit_intercept=True, l1_ratio=0.15,\n",
       "       learning_rate='optimal', loss='hinge', max_iter=5, n_iter=None,\n",
       "       n_jobs=1, penalty='l2', power_t=0.5, random_state=42, shuffle=True,\n",
       "       tol=None, verbose=0, warm_start=False)"
      ]
     },
     "execution_count": 166,
     "metadata": {},
     "output_type": "execute_result"
    }
   ],
   "source": [
    "from sklearn.linear_model import SGDClassifier\n",
    "\n",
    "sgd_clf = SGDClassifier(max_iter=5, tol=None, random_state=RANDOM_SEED)  # Existe aleatoriedade dentro do SGDClassifier.\n",
    "sgd_clf.fit(X_train, y_train_5)"
   ]
  },
  {
   "cell_type": "markdown",
   "metadata": {},
   "source": [
    "Vamos testar o classificador naquele dígito $5$ que a gente tinha visualizado no começo do notebook:"
   ]
  },
  {
   "cell_type": "code",
   "execution_count": 167,
   "metadata": {},
   "outputs": [
    {
     "data": {
      "text/plain": [
       "array([ True])"
      ]
     },
     "execution_count": 167,
     "metadata": {},
     "output_type": "execute_result"
    }
   ],
   "source": [
    "sgd_clf.predict([some_digit])"
   ]
  },
  {
   "cell_type": "markdown",
   "metadata": {},
   "source": [
    "Perfeito, ele acertou! Mas isso foi apenas um exemplo, vamos agora estudar o desempenho do classificador.\n",
    "\n",
    "**Atividade:** Determine a acurácia do classificador."
   ]
  },
  {
   "cell_type": "code",
   "execution_count": 170,
   "metadata": {},
   "outputs": [
    {
     "name": "stdout",
     "output_type": "stream",
     "text": [
      "Acurácia: 0.9683\n"
     ]
    }
   ],
   "source": [
    "y_pred_mnist = sgd_clf.predict(X_test)\n",
    "print('Acurácia: {}'.format(accuracy_score(y_test_5, y_pred_mnist)))"
   ]
  },
  {
   "cell_type": "markdown",
   "metadata": {},
   "source": [
    "**Atividade:** Seria MUITO fácil obter acurácia 90% neste problema. Não precisa nem treinar! Explique como!"
   ]
  },
  {
   "cell_type": "markdown",
   "metadata": {},
   "source": [
    "**R:**"
   ]
  },
  {
   "cell_type": "markdown",
   "metadata": {},
   "source": [
    "# Conclusão\n",
    "\n",
    "Nesta aula vimos um pouco (muito pouco!) do universo de Machine Learning. Existe muito mais a ser estudado! Para quem se interessa pelo assunto, recomendo o livro \"Hands-On Machine Leaning with Scikit-Learn and TensorFlow\", de Aurélien Géron, que é o livro-texto da disciplina optativa \"Machine Learning\", a ser oferecida no primeiro semestre de cada ano. Para quem quer conhecer mais sobre a parte teórica de aprendizado estatistico, recomendo o livro \"The Elements of Statistical Learning: Data Mining, Inference, and Prediction.\", de Trevor Hastie, Robert Tibshirani e Jerome Friedman, que pode ser obtido gratuitamente em https://web.stanford.edu/~hastie/ElemStatLearn/ . Bons estudos!"
   ]
  },
  {
   "cell_type": "code",
   "execution_count": null,
   "metadata": {},
   "outputs": [],
   "source": []
  }
 ],
 "metadata": {
  "kernelspec": {
   "display_name": "Python 3",
   "language": "python",
   "name": "python3"
  },
  "language_info": {
   "codemirror_mode": {
    "name": "ipython",
    "version": 3
   },
   "file_extension": ".py",
   "mimetype": "text/x-python",
   "name": "python",
   "nbconvert_exporter": "python",
   "pygments_lexer": "ipython3",
   "version": "3.5.5"
  },
  "toc": {
   "nav_menu": {},
   "number_sections": true,
   "sideBar": true,
   "skip_h1_title": false,
   "toc_cell": false,
   "toc_position": {},
   "toc_section_display": "block",
   "toc_window_display": false
  }
 },
 "nbformat": 4,
 "nbformat_minor": 2
}
