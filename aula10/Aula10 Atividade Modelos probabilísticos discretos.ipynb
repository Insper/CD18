{
 "cells": [
  {
   "cell_type": "markdown",
   "metadata": {},
   "source": [
    "# Atividade: Modelos probabilísticos discretos\n",
    "\n",
    "## Aula 10\n",
    "\n",
    "**Referência de Leitura:**\n",
    "1. Magalhães e Lima (7ª. Edição): Seções 3.2 e 3.3\n",
    "\n",
    "**Hoje:**\n",
    "1.\tDescrever modelos discretos quanto aos resultados teóricos.\n",
    "2.\tExplicar a utilização de modelos probabilísticos no contexto da literatura estatística.\n",
    "3.\tContrastar resultados teóricos e empíricos.\n",
    "4.\tFechamento do conteúdo.\n",
    "\n",
    "**Próxima aula:**\n",
    "1. Leitura prévia necessária: Magalhães e Lima (7ª. Edição): Capítulo 6 - Seção 6.1.\n",
    "___"
   ]
  },
  {
   "cell_type": "code",
   "execution_count": null,
   "metadata": {},
   "outputs": [],
   "source": [
    "%matplotlib inline\n",
    "import pandas as pd\n",
    "import matplotlib.pyplot as plt\n",
    "import numpy as np\n",
    "\n",
    "from scipy import stats #importa apenas as funções de estatísticas da biblioteca SciPy.\n",
    "import itertools #importante para gerar todos os resultados possíveis!!\n"
   ]
  },
  {
   "cell_type": "markdown",
   "metadata": {
    "collapsed": true
   },
   "source": [
    "# Distribuição de Poisson\n",
    "\n",
    "## Teoria\n",
    "\n",
    "Um experimento de Poisson é aquele onde temos uma taxa média de ocorrência de um fenômeno por intervalo (de tempo, de espaço, de volume, etc). Por exemplo: uma linha de produção de peças automotivas onde podemos estudar a taxa média de falhas por dia.\n",
    "\n",
    "Em um experimento de Poisson, a variável aleatória de interesse é a contagem de eventos em um intervalo. Por exemplo: quantas falhas ocorrem em uma linha de produção em um dia? Quantos buracos existem na estrada em 1 km? Quantas vezes algum vulcão entra em erupção na Terra em um período de mil anos?\n",
    "\n",
    "Para que um experimento seja considerado Poisson devemos ter as seguintes condições:\n",
    "\n",
    "<table>\n",
    "<tr>\n",
    "<th>Condição</th>\n",
    "<th>Exemplo 1</th>\n",
    "<th>Exemplo 2</th>\n",
    "<th>Exemplo 3</th>\n",
    "</tr>\n",
    "<tr>\n",
    "<td>\n",
    "Probabilidade de uma ocorrência é a mesma para dois intervalos quaisquer de igual tamanho.\n",
    "</td>\n",
    "<td>\n",
    "A chance de falhas numa linha de produção é a mesma hoje e amanhã.\n",
    "</td>\n",
    "<td>\n",
    "O número médio de buracos numa estrada ruim é o mesmo em qualquer intervalo de mesmo comprimento (por exemplo, 1 km).\n",
    "</td>\n",
    "<td>\n",
    "O número médio de erupções vulcânicas por período de mil anos é o mesmo na era atual e na idade da pedra.\n",
    "</td>\n",
    "</tr>\n",
    "<tr>\n",
    "<td>\n",
    "A ocorrência ou não num dado intervalo é independente da ocorrência ou não em outro intervalo.\n",
    "</td>\n",
    "<td>\n",
    "O número de falhas hoje não impacta o número de falhas amanhã.\n",
    "</td>\n",
    "<td>\n",
    "O número de buracos no km 23 não impacta o número de buracos no km 42.\n",
    "</td>\n",
    "<td>\n",
    "O número de erupções vulcânicas nos últimos mil anos não influencia o número de erupções nos próximos mil anos.\n",
    "</td>\n",
    "</table>\n",
    "\n",
    "Representamos matemáticamente que uma variável aleatória $X$ é distribuída segundo uma distribuição de Poisson de parâmetro $\\lambda$ com a expressão:\n",
    "\n",
    "$$X \\sim Poisson(\\lambda)$$\n",
    "\n",
    "Lembre-se que uma variável aleatória é definida por duas coisas:\n",
    "\n",
    "- Os possíveis valores da variável aleatória;\n",
    "\n",
    "- A probabilidade de cada valor.\n",
    "\n",
    "Em uma variável aleatória $X \\sim Poisson(\\lambda)$ os possíveis valores de $X$ são os números naturais (0, 1, 2, ...), e a probabilidade de cada valor possível é dada por:\n",
    "\n",
    "$$P(X = x) = \\frac{e^{-\\lambda} \\lambda^{x}}{x!}$$\n",
    "\n",
    "Por exemplo, se em um servidor web chegam em média 10 requisições por minuto, qual a probabilidade de que cheguem exatamente 13 requisições? Calculando:\n",
    "\n",
    "$$P(X = 13) = \\frac{e^{-10} 10^{13}}{13!} = 7.291\\%$$"
   ]
  },
  {
   "cell_type": "code",
   "execution_count": null,
   "metadata": {},
   "outputs": [],
   "source": [
    "# Parâmetros do problema.\n",
    "x = 13\n",
    "lb = 10"
   ]
  },
  {
   "cell_type": "code",
   "execution_count": null,
   "metadata": {},
   "outputs": [],
   "source": [
    "# Calculando a probabilidade segundo a fórmula.\n",
    "from math import exp, factorial\n",
    "\n",
    "P = (exp(-lb) * lb**x) / factorial(x)\n",
    "\n",
    "print('P(X = {}) = {:.3f}%'.format(x, 100.0*P))"
   ]
  },
  {
   "cell_type": "code",
   "execution_count": null,
   "metadata": {},
   "outputs": [],
   "source": [
    "# Repetindo o cálculo anterior usando stats.poisson\n",
    "P = stats.poisson.pmf(x, lb)\n",
    "\n",
    "print('P(X = {}) = {:.3f}%'.format(x, 100.0*P))"
   ]
  },
  {
   "cell_type": "markdown",
   "metadata": {},
   "source": [
    "## Exercício\n",
    "\n",
    "Uma fábrica produz determinado veículo. O gerente de vendas fechou um negócio que implica na produção de pelo menos 110 unidades nos próximos dois meses. Para isso, será construída uma nova linha de montagem com capacidade para produzir em média 50 veículos por mês (considere meses de 30 dias). A linha funcionará ininterruptamente. Além disso, apenas um veículo é produzido por vez. Considere que um modelo Poisson seja adequado para a quantidade de veículos produzidos.\n",
    "\n",
    "1. Qual a probabilidade  da produção ser igual a 100 veículos nos próximos dois meses?\n",
    "\n",
    "2. Qual a probabilidade  da produção ser de pelo menos 100 veículos nos próximos dois meses?\n",
    "\n",
    "3. Qual a probabilidade da produção ser entre 100 e 110 veículos nos próximos dois meses?\n",
    "\n",
    "4. Se forem produzidos de pelo menos 100 veículos nos próximo dois meses, qual a probabilidade do gerente cumprir a meta negociada?\n",
    "\n",
    "5. Caso a meta seja cumprida, o lucro será da ordem de $250$ mil, caso não seja, o lucro cai para $200$ mil. Qual é o lucro esperado e seu desvio-padrão?\n",
    "\n",
    "**Observação:** Explore os comandos de `stats.poisson`. <sup>[http://docs.scipy.org/doc/scipy/reference/generated/scipy.stats.poisson.html]\n"
   ]
  },
  {
   "cell_type": "code",
   "execution_count": null,
   "metadata": {},
   "outputs": [],
   "source": []
  }
 ],
 "metadata": {
  "anaconda-cloud": {},
  "kernelspec": {
   "display_name": "Python 3",
   "language": "python",
   "name": "python3"
  },
  "language_info": {
   "codemirror_mode": {
    "name": "ipython",
    "version": 3
   },
   "file_extension": ".py",
   "mimetype": "text/x-python",
   "name": "python",
   "nbconvert_exporter": "python",
   "pygments_lexer": "ipython3",
   "version": "3.6.6"
  }
 },
 "nbformat": 4,
 "nbformat_minor": 1
}
