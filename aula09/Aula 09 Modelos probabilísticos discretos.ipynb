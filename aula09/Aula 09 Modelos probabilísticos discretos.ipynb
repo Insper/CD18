{
 "cells": [
  {
   "cell_type": "markdown",
   "metadata": {},
   "source": [
    "# Modelos probabilísticos discretos\n",
    "\n",
    "**Referência de Leitura:**\n",
    "\n",
    "1. Magalhães e Lima (7ª. Edição): Seções 3.2 e 3.3\n",
    "\n",
    "**Hoje:**\n",
    "\n",
    "1.\tDescrever modelos discretos quanto aos resultados teóricos.\n",
    "\n",
    "2.\tExplicar a utilização de modelos probabilísticos no contexto da literatura estatística.\n",
    "\n",
    "3.\tContrastar resultados teóricos e empíricos.\n",
    "\n",
    "4.\tFechamento do conteúdo.\n",
    "\n",
    "**Próxima aula:**\n",
    "\n",
    "1. Leitura prévia necessária: Magalhães e Lima (7ª. Edição): Capítulo 6 - Seção 6.1."
   ]
  },
  {
   "cell_type": "code",
   "execution_count": 1,
   "metadata": {},
   "outputs": [],
   "source": [
    "%matplotlib inline\n",
    "import itertools # importante para gerar todos os resultados possíveis!\n",
    "import matplotlib.pyplot as plt\n",
    "import numpy as np\n",
    "import pandas as pd\n",
    "\n",
    "from scipy import stats # importa apenas as funções de estatísticas da biblioteca SciPy."
   ]
  },
  {
   "cell_type": "markdown",
   "metadata": {},
   "source": [
    "## Distribuição binomial: teoria\n",
    "\n",
    "É responsável por modelar uma variável $Y$ definida pelo número de sucessos em $n$ tentativas de um experimento de Bernoulli cuja probabilidade de sucesso é dada por $p$.\n",
    "\n",
    "Por exemplo, \n",
    "\n",
    "* se lançar uma moeda viciada com probabilidade $p$ de dar cara é um experimento de Bernoulli, então \n",
    "* contar quantas caras dessa moeda deram em $n$ lançamentos é um experimento binomial.\n",
    "\n",
    "Assim, dizemos que \n",
    "\n",
    "<font color='red'>$$Y \\sim Bin(n,p)$$</font>\n",
    "\n",
    "e lê-se: \n",
    "\n",
    "<font color='red'><center>$Y$ segue uma distribuição binomial com $n$ tentativas e $p$ como probabilidade de sucesso.</center></font>\n",
    "\n",
    "Muita atenção aqui: **não basta dizer que é Binomial, tem que especificar os parâmetros da distribuição!** Ou seja, não existe $Y \\sim Bin$, e sim $Y \\sim Bin(n, p)$.\n",
    "\n",
    "A função de probabilidade nesse caso é dada por:\n",
    "\n",
    "$$P(Y=y) = \\left(\n",
    "\\begin{array}{c}\n",
    "n \\\\\n",
    "y \n",
    "\\end{array}\\right) p^y (1-p)^{(n-y)}$$\n",
    "\n",
    "Para um experimento ter as probabilidade dos números de sucessos modeladas por uma distribuição Binomial, o mesmo precisa ter as seguintes propriedades:\n",
    "\n",
    "* é uma contagem de $n$ repetições (ou tentativas ou ensaios) idênticas;\n",
    "\n",
    "* cada repetição tem apenas 2 resultados possíveis: um é denominado sucesso e o outro, fracasso;\n",
    "\n",
    "* a probabilidade de sucesso para cada ensaio é denominada $p$ e será constante em cada repetição. Então, a probabilidade de fracasso $(1-p)$ também não varia de tentativa para tentativa;\n",
    "\n",
    "* As tentativas são independentes.\n",
    "\n",
    "### Distribuição binomial em Python\n",
    "\n",
    "A biblioteca SciPy está cheia de funções para nos ajudar a trabalhar com variáveis aleatórias! https://en.wikipedia.org/wiki/SciPy\n",
    "\n",
    "Algumas funções úteis para desenvolver seu código: http://docs.scipy.org/doc/scipy-0.16.1/reference/generated/scipy.stats.binom.html\n",
    "\n",
    "* $P(Y=y)$: `prob = stats.binom.pmf(y, n, p)`\n",
    "\n",
    "* $P(Y\\leq y)$: `prob = stats.binom.cdf(y, n, p)`\n",
    "\n",
    "* $E(Y)$ e $Var(Y)$: `m, v = stats.binom.stats(n, p, moments='mv')`"
   ]
  },
  {
   "cell_type": "markdown",
   "metadata": {},
   "source": [
    "___\n",
    "## <font color='blue'>Exercício 1</font>\n",
    "\n",
    "**Este exercício irá explorar a construção de árvore de probabilidades com eventos e construção da distribuição de probabilidades de uma variável aleatória discreta. Ainda, irá explorar o modelo  de distribuição probabilística Binomial**\n",
    "\n",
    "Um resistor de 100K Ohms comprado na Santa Efigênia tem probabilidade de falha de $5\\%$, segundo um fabricante ruim.\n",
    "\n",
    "Ainda, por suposição, admita que os resistores falhem de forma independente entre si.\n",
    "\n",
    "Um aluno de engenharia compra um pacote contendo $n$ resistores.\n",
    "\n",
    "1. Assuma $n=3$ e faça os itens a seguir.\n",
    "\n",
    "    1. Monte o espaço amostral que combine todos os resultados possíveis de Falha e não Falha desses $n$ resistores. Ainda, calcule a probabilidade de cada resultado do espaço amostral acontecer.\n",
    "\n",
    "    2. Se $Y$ representa o número de resistores que falham em um pacotinho com $n$ resistores, então construa a distribuição de probabilidades de $Y$.\n",
    "\n",
    "    3. Calcule a média e o desvio padrão de $Y$. Interprete os resultados.\n",
    "\n",
    "    4. Utilizando o modelo probabilístico da distribuição Binomial, encontre a distribuição de probabilidades de cada possível valor de $Y$. Calcule também $E(Y)$ e $Var(Y)$. Compare com as distribuições de probabilidades obtidas nos itens anteriores e discuta porque esses valores são iguais ou diferentes!\n",
    "   \n",
    "2. Assuma $n=7$ e repita os itens A) a D) anteriores. No caso de $n=7$ ou maiores quantidades de resistores em um pacotinho, qual a viabilidade de construir a distribuição de probabilidades do número de resistores com defeitos quando $n$ não é pequeno seguindo os itens de A) a C)?\n",
    "    \n"
   ]
  },
  {
   "cell_type": "code",
   "execution_count": 2,
   "metadata": {},
   "outputs": [],
   "source": [
    "# Item 1.\n",
    "n = 3\n",
    "\n",
    "# Item 2.\n",
    "# n = 7\n",
    "\n",
    "# Nos dois itens, a probabilidade de sucesso individual é a mesma. \n",
    "# Note que \"sucesso\" em nosso experimento significa... falha no resistor! Nada de errado com isso, apenas soa estranho\n",
    "# mas tudo bem!\n",
    "p = 0.05"
   ]
  },
  {
   "cell_type": "markdown",
   "metadata": {},
   "source": [
    "*Resolvendo o item A*\n",
    "\n",
    "Vamos começar listando todas as possibilidades de \"sucesso\" (resistor falhou) e \"fracasso\" (resistor funcionou)."
   ]
  },
  {
   "cell_type": "code",
   "execution_count": 3,
   "metadata": {},
   "outputs": [],
   "source": [
    "possibilidades = ['F', 'Fc']  # 'F': falhou, 'Fc': não falhou.\n",
    "eventos = itertools.product(possibilidades, repeat=n)\n",
    "espaco_amostral = list(eventos)  # Coisas de Python..."
   ]
  },
  {
   "cell_type": "code",
   "execution_count": 4,
   "metadata": {},
   "outputs": [
    {
     "name": "stdout",
     "output_type": "stream",
     "text": [
      "('F', 'F', 'F')\n",
      "('F', 'F', 'Fc')\n",
      "('F', 'Fc', 'F')\n",
      "('F', 'Fc', 'Fc')\n",
      "('Fc', 'F', 'F')\n",
      "('Fc', 'F', 'Fc')\n",
      "('Fc', 'Fc', 'F')\n",
      "('Fc', 'Fc', 'Fc')\n"
     ]
    }
   ],
   "source": [
    "for item in espaco_amostral:\n",
    "    print(item)"
   ]
  },
  {
   "cell_type": "markdown",
   "metadata": {},
   "source": [
    "**Atividade:** \n",
    "\n",
    "Agora é com você: para cada evento simples no espaço amostral, calcule sua probabilidade. Você deve construir um dicionário onde a chave é um evento e o valor é sua probabilidade. Chame esse dicionário de `prob_eventos`."
   ]
  },
  {
   "cell_type": "code",
   "execution_count": 5,
   "metadata": {},
   "outputs": [],
   "source": [
    "prob_eventos = {}\n",
    "\n",
    "for evento in espaco_amostral:\n",
    "    # Calcule a probabilidade do evento simples.\n",
    "    # Insira seu código aqui:\n",
    "\n",
    "    \n",
    "    \n",
    "    # Fim do seu código, vamos guardar a probabilidade no dicionário.\n",
    "    prob_eventos[evento] = prob"
   ]
  },
  {
   "cell_type": "markdown",
   "metadata": {},
   "source": [
    "Se você seguiu as instruções acima, o código a seguir deverá listar os eventos e suas probabilidades."
   ]
  },
  {
   "cell_type": "code",
   "execution_count": 6,
   "metadata": {},
   "outputs": [
    {
     "name": "stdout",
     "output_type": "stream",
     "text": [
      "Distribuição de probabilidades de cada resultado do espaço amostral:\n",
      "('F', 'F', 'F') com probabilidade 0.00013\n",
      "('F', 'F', 'Fc') com probabilidade 0.00238\n",
      "('F', 'Fc', 'F') com probabilidade 0.00238\n",
      "('F', 'Fc', 'Fc') com probabilidade 0.04512\n",
      "('Fc', 'F', 'F') com probabilidade 0.00238\n",
      "('Fc', 'F', 'Fc') com probabilidade 0.04512\n",
      "('Fc', 'Fc', 'F') com probabilidade 0.04512\n",
      "('Fc', 'Fc', 'Fc') com probabilidade 0.85737\n"
     ]
    }
   ],
   "source": [
    "print('Distribuição de probabilidades de cada resultado do espaço amostral:')\n",
    "for evento, prob in prob_eventos.items():\n",
    "    print('{0} com probabilidade {1:.5f}'.format(evento, prob))"
   ]
  },
  {
   "cell_type": "markdown",
   "metadata": {},
   "source": [
    "*Agora vamos resolver o item B.*\n",
    "\n",
    "Relembre que nossa variável aleatória é a CONTAGEM de falhas. Portanto, temos que determinar a contagem de falhas em cada evento simples, e juntar todas as probabilidades de mesma contagem - reveja a explicação do professor.\n",
    "\n",
    "**Atividade:** Construa a distribuição de probabilidades, na forma de um dicionário onde a chave é a contagem de falhas, e o valor é a probabilidade desta contagem de falhas. Use o resultado do item A.\n",
    "\n",
    "Dica: com listas você pode usar o método `count()` para saber quantas vezes um certo valor ocorre. Por exemplo:\n",
    "\n",
    "```\n",
    "minha_lista = ['A', 'B', 'B', 'A', 'A', 'A']\n",
    "print(minha_lista.count('B')  # Imprime 2.\n",
    "```"
   ]
  },
  {
   "cell_type": "code",
   "execution_count": 23,
   "metadata": {},
   "outputs": [],
   "source": [
    "Y = {}\n",
    "for evento, prob in prob_eventos.items():\n",
    "    # Seu código vem aqui:\n"
   ]
  },
  {
   "cell_type": "markdown",
   "metadata": {},
   "source": [
    "Se você fez o que foi pedido, o código abaixo deve listar os valores da variável aleatória $Y$ (ou seja, as possíveis contagens de falha) e suas respectivas probabilidades:"
   ]
  },
  {
   "cell_type": "code",
   "execution_count": 8,
   "metadata": {},
   "outputs": [
    {
     "name": "stdout",
     "output_type": "stream",
     "text": [
      "Distribuição de probabilidades da variável aleatória Y:\n",
      "3 falhas com probabilidade 0.00013\n",
      "2 falhas com probabilidade 0.00713\n",
      "1 falhas com probabilidade 0.13537\n",
      "0 falhas com probabilidade 0.85737\n"
     ]
    }
   ],
   "source": [
    "print(\"Distribuição de probabilidades da variável aleatória Y:\")        \n",
    "for y, prob_y in Y.items():\n",
    "    print('{0} falhas com probabilidade {1:.5f}'.format(y, prob_y))"
   ]
  },
  {
   "cell_type": "markdown",
   "metadata": {},
   "source": [
    "Ficou meio dificil de ver, vamos fazer o gráfico de barras dessa distribuição:"
   ]
  },
  {
   "cell_type": "code",
   "execution_count": 9,
   "metadata": {},
   "outputs": [
    {
     "data": {
      "image/png": "[encoded data removed]",
      "text/plain": [
       "<Figure size 432x288 with 1 Axes>"
      ]
     },
     "metadata": {},
     "output_type": "display_data"
    }
   ],
   "source": [
    "Y_s = pd.Series(Y).sort_index()\n",
    "\n",
    "plt.figure()\n",
    "Y_s.plot(kind='bar')\n",
    "plt.title('Distribuição de probabilidade de Y')\n",
    "plt.xlabel('$y$')\n",
    "plt.ylabel('$P(Y = y)$')\n",
    "plt.show();"
   ]
  },
  {
   "cell_type": "markdown",
   "metadata": {},
   "source": [
    "*Resolvendo o item C.*\n",
    "\n",
    "Lembre-se que a média de uma variável aleatória discreta é dada por\n",
    "\n",
    "$$\n",
    "\\mu = E[X] = \\sum_{\\text{todos os } x_i} x_i P(X = x_i)\n",
    "$$\n",
    "\n",
    "e que a variância é dada por \n",
    "\n",
    "$$\n",
    "\\sigma^2 = E[(X - \\mu)^2] = \\sum_{\\text{todos os } x_i} (x_i - \\mu)^2 P(X = x_i)\n",
    "$$\n",
    "\n",
    "(Note que o cálculo da variância requer o cálculo da média, a não ser que você use o truque da aula passada. Mas jáque você vai calcular a média de qualquer forma, não se preocupe com isso.)\n",
    "\n",
    "**Atividade:** Agora é com você: calcule a média e a variância de $Y$."
   ]
  },
  {
   "cell_type": "code",
   "execution_count": 10,
   "metadata": {},
   "outputs": [
    {
     "name": "stdout",
     "output_type": "stream",
     "text": [
      "Média: 0.15000\n",
      "Variância: 0.14250\n",
      "Desvio padrão: 0.37749\n"
     ]
    }
   ],
   "source": [
    "# Fase 1: cálculo da média.\n",
    "m = 0.0\n",
    "for y, prob_y in Y.items():\n",
    "    # Insira seu código aqui:\n",
    "    \n",
    "# Fase 2: cálculo da variância.\n",
    "v = 0.0\n",
    "for y, prob_y in Y.items():\n",
    "    # Insira seu código aqui:\n",
    "    \n",
    "print('Média: {0:.5f}'.format(m))\n",
    "print('Variância: {0:.5f}'.format(v))\n",
    "print('Desvio padrão: {0:.5f}'.format(np.sqrt(v)))"
   ]
  },
  {
   "cell_type": "markdown",
   "metadata": {},
   "source": [
    "**Resolvendo o item D**\n",
    "\n",
    "Esse nosso jeito de calcular as probabilidades da variável aleatória $Y$ é apenas um exercício para que possamos entender bem o que é um experimento binomial. Para calcular os valores da distribuição binomial na prática já existe uma fórmula, como visto em aula.\n",
    "\n",
    "No Python podemos calcular diretamente os valores da distribuição binomial usando `stats.binom.pmf`. Suponha que $X \\sim Bin(n,p)$ e queremos calcular $P(X = x)$ no Python, basta usar:\n",
    "\n",
    "`prob = stats.binom.pmf(x, n, p)`\n",
    "\n",
    "**Atividade:** Usando esse novo conhecimento, calcule a distribuição de Y do nosso problema, novamente na forma de um dicionário onde a chave é a contagem de falhas e o valor é a probabilidade desta contagem."
   ]
  },
  {
   "cell_type": "code",
   "execution_count": 11,
   "metadata": {},
   "outputs": [],
   "source": [
    "Y = {}\n",
    "\n",
    "# Insira seu código aqui: desta vez nem o 'for' a gente vai dar!\n"
   ]
  },
  {
   "cell_type": "markdown",
   "metadata": {},
   "source": [
    "Se você fez tudo como indicado, o código a seguir imprimirá a distribuição de probabilidade de Y:"
   ]
  },
  {
   "cell_type": "code",
   "execution_count": 12,
   "metadata": {},
   "outputs": [
    {
     "name": "stdout",
     "output_type": "stream",
     "text": [
      "Distribuição de probabilidades da variável aleatória Y:\n",
      "0 falhas com probabilidade 0.85737\n",
      "1 falhas com probabilidade 0.13537\n",
      "2 falhas com probabilidade 0.00713\n",
      "3 falhas com probabilidade 0.00013\n"
     ]
    }
   ],
   "source": [
    "print(\"Distribuição de probabilidades da variável aleatória Y:\")        \n",
    "for y, prob_y in Y.items():\n",
    "    print('{0} falhas com probabilidade {1:.5f}'.format(y, prob_y))"
   ]
  },
  {
   "cell_type": "markdown",
   "metadata": {},
   "source": [
    "Para obter a média e a variância de uma variável $Y \\sim Bin(n, p)$ use `stats.binom.stats(n, p, moments='mv')`\n",
    "\n",
    "**Atividade**: faça você mesmo!"
   ]
  },
  {
   "cell_type": "code",
   "execution_count": null,
   "metadata": {},
   "outputs": [],
   "source": []
  },
  {
   "cell_type": "markdown",
   "metadata": {},
   "source": [
    "**Atividade:** Compare com os resultados anteriores, veja se deu certo!\n",
    "\n",
    "Agora troque $n$ para $n=7$, teste tudo de novo. \n",
    "\n",
    "**Atividade:** Pense (**NÃO TESTE**) o que aconteceria se $n=100$:\n",
    "\n",
    "* Será que conseguiríamos testar todas as possibilidades no `itertools.product`?\n",
    "\n",
    "* E simplesmente usar as fórmulas da distribuição, será que daria certo?"
   ]
  },
  {
   "cell_type": "code",
   "execution_count": null,
   "metadata": {},
   "outputs": [],
   "source": []
  }
 ],
 "metadata": {
  "anaconda-cloud": {},
  "kernelspec": {
   "display_name": "Python 3",
   "language": "python",
   "name": "python3"
  },
  "language_info": {
   "codemirror_mode": {
    "name": "ipython",
    "version": 3
   },
   "file_extension": ".py",
   "mimetype": "text/x-python",
   "name": "python",
   "nbconvert_exporter": "python",
   "pygments_lexer": "ipython3",
   "version": "3.6.6"
  }
 },
 "nbformat": 4,
 "nbformat_minor": 1
}
