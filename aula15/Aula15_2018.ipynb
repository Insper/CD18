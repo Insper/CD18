{
 "cells": [
  {
   "cell_type": "markdown",
   "metadata": {},
   "source": [
    "# Aula 15 - Teorema Central do Limite"
   ]
  },
  {
   "cell_type": "markdown",
   "metadata": {},
   "source": [
    "**Preparo Prévio:**\n",
    "1. Magalhães e Lima (7ª. Edição): Seção 7.3 (págs 238 a 244).\n",
    "2. Montgomery. Estatística Aplicada e Probabilidade para Engenheiros: Seção 7.2"
   ]
  },
  {
   "cell_type": "code",
   "execution_count": 1,
   "metadata": {},
   "outputs": [],
   "source": [
    "%matplotlib inline\n",
    "%reset -f\n",
    "import matplotlib.pyplot as plt\n",
    "import pandas as pd\n",
    "import numpy as np\n",
    "from scipy import stats\n",
    "from scipy.stats import norm, uniform"
   ]
  },
  {
   "cell_type": "markdown",
   "metadata": {},
   "source": [
    "\n",
    "\n",
    "## Estatísticas e distribuições amostrais\n",
    "\n",
    "Uma **estatística** é qualquer função baseada nas observações de uma amostra aleatória. Usamos estatísticas quando, para fins práticos, não é possível ter acesso a toda uma população\n",
    "\n",
    "A distribuição de probabilidades e uma estatística é chamada de *distribuição amostral*\n",
    "\n",
    "## Distribuição amostral da média\n",
    "\n",
    "Sejam:\n",
    "\n",
    "$X, X_1, X_2, \\cdots, X_n$ amostras aleatórias de tamanho $n$, a distribuição de $\\overline{X}$ definida como:\n",
    "\n",
    "$$\\overline{X} = \\frac{X_1 + X_2 + X_3 + \\cdots + X_n}{n}$$\n",
    "\n",
    "É chamada *distribuição amostral da média*\n",
    "\n",
    "Pode-se caracterizar a distribuição amostral da média como:\n",
    "\n",
    "$$\\mu_{\\overline{X}} = \\frac{\\mu + \\mu + \\cdots + \\mu}{n} = \\mu$$\n",
    "\n",
    "E a variância:\n",
    "\n",
    "$$\\sigma^2_{\\overline{X}} = \\frac{\\sigma^2 + \\sigma^2 + \\cdots + \\sigma^2}{n^2} = \\frac{\\sigma^2}{n}$$\n",
    "\n",
    "## Teorema  central do limite\n",
    "\n",
    "Se $X_1, X_2, \\cdots, X_n$ é uma amostra aleatória de tamanho $n$ extraída de uma população com média $\\mu$ e variância $\\sigma^2$ e $\\overline{X}$ é a distribuição da média amostral, a forma limite da distribuição:\n",
    "\n",
    "$$Z = \\frac{\\overline{X} - \\mu}{\\sigma/\\sqrt{n}}$$\n",
    "\n",
    "é a **distribuição normal**, à medida que $n  \\rightarrow \\infty$\n",
    "\n",
    "\n",
    "### Exemplo 1\n",
    "\n",
    "Fonte: Exemplo 7-1 Montgomery\n",
    "\n",
    "Uma companhia de eletrônicos fabrica resistores que têm uma resistência média de $100 \\Omega$ e um desvio padrão de $10 \\Omega$. A distribuição da resistência é normal.\n",
    "\n",
    "Encontre a probabilidade de que uma amostra aleatória de $n = 25$ resistores tenha resistência média menor que $95 \\Omega$ .\n",
    "\n",
    "Temos:\n",
    "\n",
    "$\\sigma_\\overline{X} = \\frac{\\sigma}{\\sqrt{n}} = \\frac{10}{\\sqrt{25}} = 2$\n",
    "\n",
    "Devemos achar o valor à esquerda do ponto $\\overline{X} = 95$. Temos então:\n",
    "\n",
    "$z = \\frac{95 - 100}{2} = -2.5$\n",
    "\n",
    "Portanto:\n",
    "\n",
    "$$P(\\overline{X} < 95) = P(Z < 2.5)$$\n",
    "\n",
    "$$=0.0062$$\n",
    "\n",
    "Poderíamos também ter feito:\n"
   ]
  },
  {
   "cell_type": "code",
   "execution_count": 2,
   "metadata": {},
   "outputs": [
    {
     "data": {
      "text/plain": [
       "0.006209665325776132"
      ]
     },
     "execution_count": 2,
     "metadata": {},
     "output_type": "execute_result"
    }
   ],
   "source": [
    "norm.cdf(95, loc=100, scale=2)"
   ]
  },
  {
   "cell_type": "markdown",
   "metadata": {},
   "source": [
    "### Exemplo 2\n",
    "\n",
    "Suponha que a variável aleatória $X$ tem distribuição contínua uniforme:\n",
    "\n",
    "$$f(x) = 1/2, 4 \\leq x \\leq 6$$\n",
    "caso contrário:\n",
    "$$f(x) = 0$$\n",
    "\n",
    "Apresente a distribuição da média amostral de uma amostra aleatória de tamanho $n = 40$\n",
    "\n",
    "Das propriedades da distribuição uniforme temos:\n",
    "\n",
    "$$\\mu = \\frac{a + b}{2} = 5$$\n",
    "\n",
    "$$\\sigma^2 = \\frac{(b - a)^2}{12} = \\frac{1}{3} $$\n",
    "\n",
    "Portanto:\n",
    "\n",
    "$$\\sigma^2_{\\overline{X}} = \\frac{\\sigma^2}{n} = \\frac{1}{3*40} = \\frac{1}{120}$$\n",
    "\n",
    "Temos, portanto, que:\n",
    "\n",
    "$$ \\overline{X} \\sim Normal(5, 1/120)$$\n",
    "\n",
    "Podemos chegar ao mesmo resultado via simulação, e observar o TLC\n"
   ]
  },
  {
   "cell_type": "code",
   "execution_count": 3,
   "metadata": {},
   "outputs": [],
   "source": [
    "n = 40 # tamanho da amostra\n",
    "total = 1000 # número de amostras\n",
    "size = (total, n)\n",
    "a = 4\n",
    "b = 6"
   ]
  },
  {
   "cell_type": "markdown",
   "metadata": {},
   "source": [
    "Vamos gerar 1000 amostras de tamanho 40, que ficarão guardadas numa matriz $1000x40$:"
   ]
  },
  {
   "cell_type": "code",
   "execution_count": 4,
   "metadata": {},
   "outputs": [],
   "source": [
    "# Gerando as diversas amostras\n",
    "X = uniform.rvs(loc = a, scale = (b - a), size = size)"
   ]
  },
  {
   "cell_type": "code",
   "execution_count": 5,
   "metadata": {},
   "outputs": [
    {
     "data": {
      "text/plain": [
       "(1000, 40)"
      ]
     },
     "execution_count": 5,
     "metadata": {},
     "output_type": "execute_result"
    }
   ],
   "source": [
    "X.shape"
   ]
  },
  {
   "cell_type": "markdown",
   "metadata": {},
   "source": [
    "Agora vamos somar cada uma das 1000 linhas e dividir por $n$ para acharmos as médias de cada amostra:"
   ]
  },
  {
   "cell_type": "code",
   "execution_count": 6,
   "metadata": {},
   "outputs": [],
   "source": [
    "X_ = np.sum(X, axis=1)\n",
    "X_ = X_/n"
   ]
  },
  {
   "cell_type": "code",
   "execution_count": 7,
   "metadata": {},
   "outputs": [
    {
     "data": {
      "text/plain": [
       "(1000,)"
      ]
     },
     "execution_count": 7,
     "metadata": {},
     "output_type": "execute_result"
    }
   ],
   "source": [
    "X_.shape"
   ]
  },
  {
   "cell_type": "code",
   "execution_count": 8,
   "metadata": {},
   "outputs": [
    {
     "data": {
      "text/plain": [
       "(array([  6.,  25.,  93., 147., 227., 225., 172.,  70.,  26.,   9.]),\n",
       " array([4.72188815, 4.77748036, 4.83307257, 4.88866478, 4.94425699,\n",
       "        4.99984921, 5.05544142, 5.11103363, 5.16662584, 5.22221805,\n",
       "        5.27781026]),\n",
       " <a list of 10 Patch objects>)"
      ]
     },
     "execution_count": 8,
     "metadata": {},
     "output_type": "execute_result"
    },
    {
     "data": {
      "image/png": "[encoded data removed]",
      "text/plain": [
       "<Figure size 432x288 with 1 Axes>"
      ]
     },
     "metadata": {},
     "output_type": "display_data"
    }
   ],
   "source": [
    "plt.hist(X_)"
   ]
  },
  {
   "cell_type": "markdown",
   "metadata": {},
   "source": [
    "Agora vamos verificar a média e a variância das amostras:"
   ]
  },
  {
   "cell_type": "code",
   "execution_count": 9,
   "metadata": {},
   "outputs": [
    {
     "data": {
      "text/plain": [
       "(4.9991765596352815, 0.008529679684677752)"
      ]
     },
     "execution_count": 9,
     "metadata": {},
     "output_type": "execute_result"
    }
   ],
   "source": [
    "np.mean(X_), np.var(X_, ddof=0)"
   ]
  },
  {
   "cell_type": "code",
   "execution_count": 10,
   "metadata": {},
   "outputs": [
    {
     "data": {
      "image/png": "[encoded data removed]",
      "text/plain": [
       "<Figure size 432x288 with 1 Axes>"
      ]
     },
     "metadata": {},
     "output_type": "display_data"
    }
   ],
   "source": [
    "from scipy.stats import probplot\n",
    "\n",
    "probplot(X_, dist=\"norm\", plot=plt);"
   ]
  },
  {
   "cell_type": "markdown",
   "metadata": {},
   "source": [
    "Notemos que o resultado se aproxima do teórico"
   ]
  },
  {
   "cell_type": "markdown",
   "metadata": {},
   "source": [
    "### Exercícios\n",
    "\n",
    "\n",
    "\n",
    "**1** (Montgomery 7-3). Tubos de PCV têm um diâmetro médio de $1.01 in$ e um desvio padrão de $0.003 in$. Encontre a probabilidade de que uma amostra aleatória de  $n = 9$  seções do tubo tenham um diâmetro médio de amostra maior que $1.009 in$ e menor que $1.012 in$.\n",
    "\n",
    "\n",
    "**2** (Montgomery Ex. 7-3)\n",
    "\n",
    "A vida útil de um componente usado em turbinas de jatos é uma variável aleatória com média $5000 h$ e desvio padrão de $40 h$. A distribuição de vida útil é bem próxima de uma normal.\n",
    "\n",
    "O fabricante introduz uma mudança no processo de manufatura deste componente e aumenta a média para $5050 h$ e diminui o desvio padrão para $30 h$. Suponha que uma amostra aleatória de $n_1 = 16$ componentes é selecionada do processo \"antigo\" e que uma amostra aleatória de $n_2 = 25$ componentes é selecionada do processo \"melhorado\". Qual a probabilidade que a diferença entre as duas amostras signifique que $\\overline{X}_2 = \\overline{X}_1$ seja de pelo menos 25 horas? Assuma que os processos novos e velhos possam ser considerados populações independentes. \n",
    "\n",
    "Resolva usando conhecimentos de distribuição de $\\overline{X}$ e também via simulação.\n",
    "\n"
   ]
  },
  {
   "cell_type": "code",
   "execution_count": 11,
   "metadata": {},
   "outputs": [],
   "source": [
    "## Faça aqui a simulação do Ex. 2"
   ]
  },
  {
   "cell_type": "markdown",
   "metadata": {},
   "source": [
    "**3.** Abra o notebook [Aula15_TLC_interativo.ipynb](Aula15_TLC_interativo.ipynb) e realize as seguintes atividades:\n",
    "1. Varie o tamanho de n\n",
    "2. Explique o que acontece com o probplot à medida que se varia o tamanho de n\n"
   ]
  },
  {
   "cell_type": "code",
   "execution_count": null,
   "metadata": {},
   "outputs": [],
   "source": []
  }
 ],
 "metadata": {
  "kernelspec": {
   "display_name": "Python 3",
   "language": "python",
   "name": "python3"
  },
  "language_info": {
   "codemirror_mode": {
    "name": "ipython",
    "version": 3
   },
   "file_extension": ".py",
   "mimetype": "text/x-python",
   "name": "python",
   "nbconvert_exporter": "python",
   "pygments_lexer": "ipython3",
   "version": "3.6.6"
  }
 },
 "nbformat": 4,
 "nbformat_minor": 2
}
