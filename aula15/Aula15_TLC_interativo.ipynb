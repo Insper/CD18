{
 "cells": [
  {
   "cell_type": "markdown",
   "metadata": {},
   "source": [
    "\n",
    "# Aula 15 - Teorema do Limite Central\n",
    "\n",
    "**Preparo Prévio:**\n",
    "1. Magalhães e Lima (7ª. Edição): Seção 7.3 (págs 238 a 244).\n",
    "2. Montgomery. Estatística Aplicada e Probabilidade para Engenheiros: Seção 7.2\n",
    "\n",
    "\n",
    "\n",
    "\n",
    "\n",
    "Dado $X_i$ uma variável aleatória *i.i.d.* (independente e identicamente distribuída) de uma distribuição qualquer, tem-se que:\n",
    "\n",
    "$$\\bar{X}=\\frac{X_1+X_2+...+X_n}{n}=\\frac{\\sum_{i=1}^n X_i}{n} \\sim N\\left(\\mu_X,\\frac{\\sigma_X^2}{n}\\right)$$\n",
    "\n",
    "Quando $n$ for suficientemente grande.\n",
    "\n",
    "Em alguns casos específicos, pode-se considerar $X_i$ com distribuições diferentes ou com certa dependência entre elas.\n"
   ]
  },
  {
   "cell_type": "code",
   "execution_count": 4,
   "metadata": {},
   "outputs": [],
   "source": [
    "from scipy import stats\n",
    "\n",
    "%matplotlib inline\n",
    "%reset -f\n",
    "\n",
    "from ipywidgets import interact, interactive, fixed, interact_manual\n",
    "import ipywidgets as widgets\n",
    "\n",
    "import matplotlib.pyplot as plt\n",
    "import pandas as pd\n",
    "import numpy as np\n",
    "from scipy import stats"
   ]
  },
  {
   "cell_type": "code",
   "execution_count": 6,
   "metadata": {},
   "outputs": [
    {
     "data": {
      "application/vnd.jupyter.widget-view+json": {
       "model_id": "1d3bb29dd5f64224b42b476182b576c1",
       "version_major": 2,
       "version_minor": 0
      },
      "text/plain": [
       "interactive(children=(Dropdown(description='distribuição', index=5, options=('beta', 'chi2', 'expon', 'f', 'ga…"
      ]
     },
     "metadata": {},
     "output_type": "display_data"
    }
   ],
   "source": [
    "func = {'norm': stats.norm, 'expon': stats.expon, 'uniform': stats.uniform, 't': stats.t, \n",
    "        'chi2': stats.chi2, 'f': stats.f, 'gamma': stats.gamma, 'beta': stats.beta}\n",
    "\n",
    "#Se não visualizar o pywidgets:\n",
    "#conda install -c conda-forge ipywidgets\n",
    "\n",
    "#Função que utiliza o pywidget\n",
    "@interact(n = (1, 20, 1), distribuição = sorted(list(func.keys())))\n",
    "def f(distribuição = 'norm', n = 1):\n",
    "    \n",
    "    size = 1000\n",
    "    loc = 0\n",
    "    scale = 1\n",
    "    \n",
    "    arg = {'loc': loc, 'scale': scale, 'size': size}\n",
    "    \n",
    "    #Cada distribuição tem seu conjunto de parâmetros específicos\n",
    "    if distribuição == 't':\n",
    "        arg['df'] = 5\n",
    "    elif distribuição == 'chi2':\n",
    "        arg['df'] = 5\n",
    "    elif distribuição == 'f':\n",
    "        arg['dfn'] = 5\n",
    "        arg['dfd'] = 7\n",
    "    elif distribuição == 'gamma':\n",
    "        arg['a'] = 1\n",
    "    elif distribuição == 'beta':\n",
    "        arg['a'] = 0.5\n",
    "        arg['b'] = 0.5\n",
    "    \n",
    "    #Gerar n vetores de 1000 amostras cada\n",
    "    Xb = func[distribuição].rvs(**arg)\n",
    "    for i in range(n-1):\n",
    "        Xb += func[distribuição].rvs(**arg)\n",
    "        \n",
    "    #Calcular a média\n",
    "    Xb = Xb / n\n",
    "    \n",
    "    #Prints\n",
    "    fig = plt.figure(figsize=(10,4))\n",
    "    \n",
    "    ax1 = fig.add_subplot(121)\n",
    "    ax2 = fig.add_subplot(122)\n",
    "    \n",
    "    #Histograma\n",
    "    pd.Series(Xb).hist(density=True, ax=ax1)\n",
    "    \n",
    "    #Fit e print da pdf\n",
    "    (mu, sigma) = stats.norm.fit(Xb)\n",
    "    x = np.arange(Xb.min(), Xb.max(), 0.01)\n",
    "    ax1.plot(x, stats.norm.pdf(x, loc = mu, scale=sigma))\n",
    "    \n",
    "    #QQ-Plot\n",
    "    stats.probplot(Xb, dist=stats.norm, sparams=(mu, sigma), plot=ax2)\n",
    "    \n",
    "    return \"Média Amostral: {0:0.2f}, Desvio Padrão Amostral: {1:0.2f}\\n\".format(Xb.mean(),Xb.std())"
   ]
  },
  {
   "cell_type": "code",
   "execution_count": null,
   "metadata": {},
   "outputs": [],
   "source": []
  }
 ],
 "metadata": {
  "kernelspec": {
   "display_name": "Python 3",
   "language": "python",
   "name": "python3"
  },
  "language_info": {
   "codemirror_mode": {
    "name": "ipython",
    "version": 3
   },
   "file_extension": ".py",
   "mimetype": "text/x-python",
   "name": "python",
   "nbconvert_exporter": "python",
   "pygments_lexer": "ipython3",
   "version": "3.5.5"
  }
 },
 "nbformat": 4,
 "nbformat_minor": 2
}
