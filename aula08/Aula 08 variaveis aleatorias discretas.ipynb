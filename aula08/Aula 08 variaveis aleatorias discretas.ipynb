{
 "cells": [
  {
   "cell_type": "markdown",
   "metadata": {},
   "source": [
    "# Aula 08 - Variáveis aleatórias discretas"
   ]
  },
  {
   "cell_type": "markdown",
   "metadata": {},
   "source": [
    "Para estudar:\n",
    "\n",
    "1. MONTGOMERY, D. et al. Estatística Aplicada e Probabilidade para Engenheiros. 6. ed. Seções 2.8 e 3.1\n",
    "1. MAGALHÃES, M. et al. Noções de Probabilidade e Estatística. 7. ed. Seções 3.1 e definições 4.2 (p. 110) e 4.5 (p. 121)"
   ]
  },
  {
   "cell_type": "code",
   "execution_count": null,
   "metadata": {},
   "outputs": [],
   "source": [
    "import numpy as np\n",
    "import pandas as pd\n",
    "%matplotlib inline"
   ]
  },
  {
   "cell_type": "markdown",
   "metadata": {},
   "source": [
    "**Atenção: Localize os itens numerados, que são atividades a realizar**"
   ]
  },
  {
   "cell_type": "markdown",
   "metadata": {},
   "source": [
    "### Simulação"
   ]
  },
  {
   "cell_type": "markdown",
   "metadata": {},
   "source": [
    "Vamos simular 10 séries de 8 jogadas de um dado idôneo"
   ]
  },
  {
   "cell_type": "code",
   "execution_count": null,
   "metadata": {},
   "outputs": [],
   "source": [
    "jogadas = 8\n",
    "series = 10"
   ]
  },
  {
   "cell_type": "code",
   "execution_count": null,
   "metadata": {},
   "outputs": [],
   "source": [
    "# Note que não precisamos fazer um loop\n",
    "simulacao = np.random.randint(low=1, high=7, size=(series, jogadas))"
   ]
  },
  {
   "cell_type": "code",
   "execution_count": null,
   "metadata": {},
   "outputs": [],
   "source": [
    "simulacao"
   ]
  },
  {
   "cell_type": "markdown",
   "metadata": {},
   "source": [
    "Agora vamos conectar o modelo acima a uma variável aleatória *X*, definida da seguinte forma:\n",
    "\n",
    "* Se sair no dado o valor 6 ( face ⚅) 3 vezes ou mais, o jogador ganha R\\$1000\n",
    "* Se sair no dado o valor ⚅ 1 ou 2 vezes, o jogador ganha R\\$ 500\n",
    "\n",
    "Caso não saia nenhum valor ⚅, o jogador não ganha nada"
   ]
  },
  {
   "cell_type": "markdown",
   "metadata": {},
   "source": [
    "Vamos contar os resultados e computar os ganhos"
   ]
  },
  {
   "cell_type": "code",
   "execution_count": null,
   "metadata": {},
   "outputs": [],
   "source": [
    "X = [] # X é a variável aleatória\n",
    "for serie in simulacao:\n",
    "    saiu_6 = 0\n",
    "    ganho = 0\n",
    "    for jogada in serie:\n",
    "        if jogada == 6:\n",
    "            saiu_6 += 1\n",
    "    if saiu_6 >= 3:\n",
    "        ganho = 1000\n",
    "    elif saiu_6 >=1:\n",
    "        ganho = 500\n",
    "    X.append(ganho)\n",
    "            "
   ]
  },
  {
   "cell_type": "markdown",
   "metadata": {},
   "source": [
    "### A variável aleatória X"
   ]
  },
  {
   "cell_type": "code",
   "execution_count": null,
   "metadata": {},
   "outputs": [],
   "source": [
    "X"
   ]
  },
  {
   "cell_type": "markdown",
   "metadata": {},
   "source": [
    "Agora vamos fazer um resumo da distribuição da variável aleatória, usando o `pandas`\n"
   ]
  },
  {
   "cell_type": "code",
   "execution_count": null,
   "metadata": {},
   "outputs": [],
   "source": [
    "Xs = pd.Series(X)"
   ]
  },
  {
   "cell_type": "markdown",
   "metadata": {},
   "source": [
    "### A distribuição de X"
   ]
  },
  {
   "cell_type": "code",
   "execution_count": null,
   "metadata": {},
   "outputs": [],
   "source": [
    "distribuicao = Xs.value_counts(normalize=True)"
   ]
  },
  {
   "cell_type": "code",
   "execution_count": null,
   "metadata": {},
   "outputs": [],
   "source": [
    "distribuicao"
   ]
  },
  {
   "cell_type": "code",
   "execution_count": null,
   "metadata": {},
   "outputs": [],
   "source": [
    "distribuicao.plot.bar()"
   ]
  },
  {
   "cell_type": "markdown",
   "metadata": {},
   "source": [
    "**Atividade (1): Esta distribuição muda se fizermos mais séries de jogadas? Por quê?**"
   ]
  },
  {
   "cell_type": "markdown",
   "metadata": {},
   "source": [
    "Note que:\n",
    "* Usamos um modelo simples para obter as informações correspondentes às rolagens de dados\n",
    "* Este modelo é simples o bastante para podermos ter empregado uma abordagem exaustiva ou uma abordagem matemática usando *binomial*, que veremos nas próximas aulas. **Isso não importa agora**"
   ]
  },
  {
   "cell_type": "markdown",
   "metadata": {},
   "source": [
    "### A média de X"
   ]
  },
  {
   "cell_type": "markdown",
   "metadata": {},
   "source": [
    "Quando temos os dados, o cálculo da média se torna trivial"
   ]
  },
  {
   "cell_type": "code",
   "execution_count": null,
   "metadata": {},
   "outputs": [],
   "source": [
    "Xs.mean()"
   ]
  },
  {
   "cell_type": "markdown",
   "metadata": {},
   "source": [
    "Podemos também fazer o cálculo da média usando a distribuição. Temos:"
   ]
  },
  {
   "cell_type": "code",
   "execution_count": null,
   "metadata": {},
   "outputs": [],
   "source": [
    "media = 0.0\n",
    "for i in distribuicao.index:\n",
    "    total_linha = i*distribuicao[i]\n",
    "    print(\"{:.2f} vezes {:.2f} = {:.2f}\".format(i, distribuicao[i], total_linha))\n",
    "    media += total_linha"
   ]
  },
  {
   "cell_type": "markdown",
   "metadata": {},
   "source": [
    "Não é surpreendente verificar que os valores obtidos via `.mean()` e `for` coincidem:"
   ]
  },
  {
   "cell_type": "code",
   "execution_count": null,
   "metadata": {},
   "outputs": [],
   "source": [
    "media"
   ]
  },
  {
   "cell_type": "markdown",
   "metadata": {},
   "source": [
    "### Valor esperado de X"
   ]
  },
  {
   "cell_type": "markdown",
   "metadata": {},
   "source": [
    "Baseado na aula e nas leituras, responda:\n",
    "\n",
    "\n",
    "**Atividade(2): Qual a diferença entre a média dos dados e o valor esperado $E(X)$? Para ajudar observe as duas fórmulas abaixo**"
   ]
  },
  {
   "cell_type": "markdown",
   "metadata": {},
   "source": [
    "Média de conjunto de dados para tabela de frequência  relativa $f_i=n_i/n$ com $k$ elementos:\n",
    "\n",
    "$$\\overline{x} = \\sum_{i=1}^{k}f_ix_i$$\n",
    "\n",
    "Valor esperado de variável aleatória\n",
    "\n",
    "$$E(X) = \\mu = \\sum_{i=1}^{k}p_ix_i $$"
   ]
  },
  {
   "cell_type": "markdown",
   "metadata": {},
   "source": [
    "### Variância de X\n",
    "\n",
    "Variância para conjunto de dados para tabela de frequência  relativa $f_i=n_i/n$ com $k$ elementos:\n",
    "\n",
    "$$var = \\sum_{i=1}^{k}f_i(x_i - \\overline{x})^2$$\n",
    "\n",
    "Variância de variável aleatória\n",
    "\n",
    "$$Var(X) = E[(X - \\mu)^2] = \\sum_{i=1}^{k}p_i(x_i-\\mu)^2 $$\n",
    "\n",
    "Existe uma formulação alternativa $Var(X) = E(X^2) - E(X)^2$  [muito interessante](https://proofwiki.org/wiki/Variance_as_Expectation_of_Square_minus_Square_of_Expectation) que é mais prática para se calcular"
   ]
  },
  {
   "cell_type": "markdown",
   "metadata": {},
   "source": [
    "Vamos calcular a variância da v.a:"
   ]
  },
  {
   "cell_type": "code",
   "execution_count": null,
   "metadata": {},
   "outputs": [],
   "source": [
    "variancia = 0.0\n",
    "for i in distribuicao.index:\n",
    "    var_linha = distribuicao[i]*((i - media)**2)\n",
    "    print(\"{:.2f} vezes ({:.2f} -  {:.2f})^2 = {:.2f}\".format(distribuicao[i], i, media, var_linha))\n",
    "    variancia += var_linha"
   ]
  },
  {
   "cell_type": "markdown",
   "metadata": {},
   "source": [
    "Resultado calculado pela fórmula:"
   ]
  },
  {
   "cell_type": "code",
   "execution_count": null,
   "metadata": {},
   "outputs": [],
   "source": [
    "variancia"
   ]
  },
  {
   "cell_type": "markdown",
   "metadata": {},
   "source": [
    "Resultado usando `.var()` do `pandas` ou `np.var()`. \n",
    "\n",
    "\n",
    "**Atividade (3) Descubra o que o `ddof=0` faz**\n",
    "\n",
    "Uma sugestão é ver [a documentação do método](https://pandas.pydata.org/pandas-docs/stable/generated/pandas.DataFrame.var.html). "
   ]
  },
  {
   "cell_type": "code",
   "execution_count": null,
   "metadata": {},
   "outputs": [],
   "source": [
    "Xs.var(ddof=0)"
   ]
  },
  {
   "cell_type": "code",
   "execution_count": null,
   "metadata": {},
   "outputs": [],
   "source": [
    "np.var(X)"
   ]
  },
  {
   "cell_type": "markdown",
   "metadata": {},
   "source": [
    "Faça: \n",
    "\n",
    "**Atividade (4) Programe a resolução da variância via fórmula alternativa**\n",
    "\n",
    "$Var(X) = E(X^2) - E(X)^2$"
   ]
  },
  {
   "cell_type": "markdown",
   "metadata": {},
   "source": [
    "**Atividade (5) Desafio:**\n",
    "\n",
    "Usando o módulo Python [`itertools`](Itertools.ipynb) levante a distribuição exata da variável aleatória $X$. A ideia é gerar todas as combinações e calcular a probabilidade contando os casos.\n",
    "\n"
   ]
  },
  {
   "cell_type": "code",
   "execution_count": null,
   "metadata": {},
   "outputs": [],
   "source": []
  },
  {
   "cell_type": "code",
   "execution_count": null,
   "metadata": {},
   "outputs": [],
   "source": []
  }
 ],
 "metadata": {
  "kernelspec": {
   "display_name": "Python 3",
   "language": "python",
   "name": "python3"
  },
  "language_info": {
   "codemirror_mode": {
    "name": "ipython",
    "version": 3
   },
   "file_extension": ".py",
   "mimetype": "text/x-python",
   "name": "python",
   "nbconvert_exporter": "python",
   "pygments_lexer": "ipython3",
   "version": "3.5.5"
  }
 },
 "nbformat": 4,
 "nbformat_minor": 2
}
