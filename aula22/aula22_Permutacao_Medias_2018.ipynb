{
 "cells": [
  {
   "cell_type": "markdown",
   "metadata": {},
   "source": [
    "# Aula 22 - Teste de permutação"
   ]
  },
  {
   "cell_type": "markdown",
   "metadata": {},
   "source": [
    "O teste de permutação permite fazer estatísticas de *duas amostras*, por exemplo para concluir se são diferentes.\n",
    "\n",
    "Junto com o *bootstrap*, pertencem às técnicas de análise estatística por reamostragem."
   ]
  },
  {
   "cell_type": "code",
   "execution_count": 14,
   "metadata": {
    "collapsed": true
   },
   "outputs": [],
   "source": [
    "%matplotlib inline\n",
    "\n",
    "import pandas as np\n",
    "import matplotlib.pyplot as plt\n",
    "from scipy import stats\n",
    "import numpy as np\n",
    "import math\n",
    "import random\n",
    "from scipy.stats import percentileofscore # função reversa do np.percentile"
   ]
  },
  {
   "cell_type": "markdown",
   "metadata": {},
   "source": [
    "### Exercício 1\n",
    "___\n",
    "\n",
    "Uma fábrica realizou uma calibração em uma máquina na linha de produção. A equipe que realizou os ajustes afirmou que após a calibração, a máquina ainda manteve o mesmo tempo médio de produção. Para verificar se realmente o tempo médio permaneceu inalterado, foram realizadas duas medidas de tempo: uma antes e uma depois da calibração. \n",
    "\n",
    "Foram selecionadas 7 e 8 peças aleatorianente para as medidas antes e depois da calibração, repectivamente. Elas estão representadas abaixo pelas séries xA e xB, respectivamente.\n",
    "\n",
    "Assuma que o tempo de produção de uma peça possui uma distribuição normal e que o desvio padrão realmente permaneceu inalterado, contudo desconhecido."
   ]
  },
  {
   "cell_type": "code",
   "execution_count": 2,
   "metadata": {},
   "outputs": [],
   "source": [
    "xA =   [ 47.66708824,  48.11337801,  47.83104582,  46.69416928,\n",
    "        48.70934634,  45.61498917,  51.79239414]\n",
    "xB =   [ 52.82692462,  49.60021673,  50.23705478,  49.65527133,\n",
    "        49.78115306,  49.81176314,  53.04044198,  48.6253753 ]\n",
    "\n"
   ]
  },
  {
   "cell_type": "markdown",
   "metadata": {},
   "source": [
    "**a.** Calcular a diferença entre os tempos médios depois e antes da calibração. Nomeie essa diferença entre as médias amostrais originais de $d_{obs}$."
   ]
  },
  {
   "cell_type": "code",
   "execution_count": 3,
   "metadata": {},
   "outputs": [
    {
     "name": "stdout",
     "output_type": "stream",
     "text": [
      "A diferença das médias observada de depois e antes: 2.386931\n"
     ]
    }
   ],
   "source": [
    "dobs =  # complete\n",
    "print(\"A diferença das médias observada de depois e antes: %f\" % dobs)"
   ]
  },
  {
   "cell_type": "markdown",
   "metadata": {},
   "source": [
    "___\n",
    "Como os dois conjuntos representam uma pequena amostra da população, não é possível inferir que essa seja a real diferença entre as médias das duas variáveis aleatórias. Portanto é desejável aferir se realmente a diferença é zero, com um nível de significância de 5%."
   ]
  },
  {
   "cell_type": "markdown",
   "metadata": {},
   "source": [
    "**b.** Formule a hipótese nula e a hipótese alternativa em termos do problema e dos parâmetros:\n",
    "\\begin{equation*}\n",
    "   H_0:\\mbox{Calibração não alterou produção} \\rightarrow \\mu_B=\\mu_A \\rightarrow \\mu_B-\\mu_A=0\n",
    "\\end{equation*}   \n",
    "\\begin{equation*}\n",
    "   H_a:\\mbox{Calibração alterou produção} \\rightarrow \\mu_B\\neq\\mu_A \\rightarrow \\mu_B-\\mu_A\\neq0\n",
    "\\end{equation*}"
   ]
  },
  {
   "cell_type": "markdown",
   "metadata": {},
   "source": [
    "___\n",
    "## Teste de permutação\n",
    "\n",
    "Não há qualquer informação acerca do desvio padrão populacional. Ainda, a amostra contém poucos dados. Para concluir se a hipótese nula será ou não rejeitada, antes de realizar um teste convencional, o aluno decidiu realizar um **Teste de Permutação**.\n",
    "\n",
    "Nesse teste, a ideia consiste em permutar os dados das duas amostras, ou seja, embaralhar os valores contidos em $x_A$ e $x_B$ e criar novas amostras. \n",
    "\n",
    "### Caso 1\n",
    "Ambas as amostras possuem a mesma unidade de medida e a ordem dos elementos nas amostras não é importante.\n",
    "\n",
    "monta-se uma única lista com a união dos dados em $x_A$ e $x_B$\n",
    "\n",
    "Repetir $n$ vezes:\n",
    "* embaralha-se a lista \n",
    "* separa-se novamente respeitando os tamanhos originais de cada amostra ($n_A$ e $n_B$).\n",
    "* Calcule a diferença entre as médias de $x_B$ e $x_A$ (ou outra estatística de $A$  e $B$)\n",
    "* armazene a diferença (ou a estatística de interesse)\n",
    "\n",
    "Use o histograma e os dados das diferenças obtidas para tomar a decisão raciocinando com base em intervalos de confiança e percentis.\n",
    "\n",
    "Observação:\n",
    "* Note que os tamanhos amostrais não precisam ser necessariamente iguais.\n",
    "* Vale para **qualquer estatística de duas amostras**, não só para a média\n",
    "\n",
    "### Caso 2\n",
    "As séries possuem unidades de medida diferentes ou o teste em questão exige uma certa ordem dos dados entre as amostras (por exemplo: teste de correlação)\n",
    "\n",
    "Repetir $n$ vezes:\n",
    "* embaralha-se apenas uma das amostras\n",
    "* Calcule a estatística usando  $x_B$ e $x_A$, uma das quais terá sido permutada\n",
    "* armazene o valor da estatística das duas amostras\n",
    "\n",
    "Use o histograma e os dados das diferenças obtidas para tomar a decisão raciocinando com base em intervalos de confiança e percentis.\n",
    "\n",
    "### Explosão combinatória\n",
    "\n",
    "Idealmente, é desejável a realização de todas as permutações possíveis. Nem sempre é viável.\n",
    "\n",
    "No caso do exemplo, os tamanhos das duas amostras são $n_A=7$ e $n_B=8$, temos que o número de combinações possíveis é 15!, ou mais de 1,3 trilhão de possibilidades, tornando a solução computacionalmente inviável."
   ]
  },
  {
   "cell_type": "markdown",
   "metadata": {},
   "source": [
    "**c.** Monte um programa para realizar o teste de permutação (considerando o Caso 1) para 100 mil iterações. Utilize o comando `np.random.shuffle()` para embaralhar a lista contendo a união dos dados em $x_A$ e $x_B$."
   ]
  },
  {
   "cell_type": "code",
   "execution_count": 6,
   "metadata": {},
   "outputs": [],
   "source": [
    "#Permutation test\n",
    "\n",
    "nA = len(xA)\n",
    "nB = len(xB)\n",
    "\n",
    "#juntar as duas listas\n",
    "xAB = xA + xB\n",
    "\n",
    "#número de permutações, o ideal seria (m+n)! mas seria inviável.\n",
    "t = 100000\n",
    "\n",
    "perm = [] # lista para guardar os resultados\n",
    "for i in range(0,t):\n",
    "    #Embaralhe o xy\n",
    "\n",
    "    # Depois de embaralhar, separe as listas e calcule a dif de medias entre o x e o y embaralhado e separado\n",
    "    \n"
   ]
  },
  {
   "cell_type": "markdown",
   "metadata": {},
   "source": [
    "**d.** Exibir o histograma das diferenças entre as médias permutadas."
   ]
  },
  {
   "cell_type": "code",
   "execution_count": 1,
   "metadata": {},
   "outputs": [],
   "source": [
    "# faça o hist"
   ]
  },
  {
   "cell_type": "markdown",
   "metadata": {},
   "source": [
    "**e.** Calcule o valor-p do *teste de permutação*.\n",
    "\n",
    "\n",
    "Lembre que: \n",
    "* O teste é bicaudal de acordo com a hipótese alterativa ($H_a:\\mu_B-\\mu_A\\neq0$)\n",
    "* Interessam os casos em que $d_{obs}>0$, a proporção dos casos em que as diferenças entre as médias permutadas foram **maiores** do que a diferença $d_{obs}$ observada no item a\n",
    "* Também interessam os casos em que $d_{obs}<0$, ou seja, a proporção dos casos em que a  as diferenças entre as médias permutadas foram **menores** do que a diferença $d_{obs}$ observada no item a\n",
    "* Note que você não pode simplesmente calcular uma das duas caudas e dobrar o valor. ** Por quê?**.\n",
    "\n",
    "**Faça uma conclusão do teste de hipóteses**\n",
    "\n",
    "Assuma um nível de significância $\\alpha$ coerente"
   ]
  },
  {
   "cell_type": "code",
   "execution_count": 27,
   "metadata": {},
   "outputs": [],
   "source": [
    "\n",
    "# Dica: a função percentileofscore do scipy.stats pode te ajudar. \n",
    "# Dica 2: ela retorna em %. Precisa dividir por 100\n",
    "# Dica 3: Calcule a cauda direita e a esquerda. Não multiplique por dois\n"
   ]
  },
  {
   "cell_type": "code",
   "execution_count": null,
   "metadata": {},
   "outputs": [],
   "source": []
  },
  {
   "cell_type": "markdown",
   "metadata": {},
   "source": [
    "### Exercício 2"
   ]
  },
  {
   "cell_type": "markdown",
   "metadata": {},
   "source": [
    "Um aluno comprou um acelerômetro para usar com o seu Arduino. O acelerômetro mede forças específicas em 3 eixos ortogonais, normalmente representados por x, y e z. \n",
    "\n",
    "Caso o eixo z esteja perfeitamente alinhado com a vertical local, irá medir a reação à gravidade, ou seja, aproximadamente $-9.8\\ m/s^2$ mais um certo ruido. Já os eixos x e y, que formam um plano paralelo ao solo, devem medir:\n",
    "$$x = 0\\ m/s^2 + v$$ $$y = 0\\ m/s^2 + w$$ \n",
    "Onde v e w são ruídos com uma distribuição e parâmetros desconhecidos.\n",
    "\n",
    "Assumindo que os ruídos tenham uma distribuição normal, para uma melhor filtragem desses ruídos é desejável que a correlação desses ruídos seja próxima de zero. Para verificar se o acelerômetro possui ruídos descorrelacionados, o aluno realizou então 15 medidas de x e y e obteve os seguintes resultados (em $m/s^2$):"
   ]
  },
  {
   "cell_type": "code",
   "execution_count": 38,
   "metadata": {},
   "outputs": [],
   "source": [
    "x =   [-1.06004531,  0.90985503,  1.01145345,  0.81447903, -0.37231968,\n",
    "       -0.90004095, -2.08026056, -1.72278038, -0.32815854,  1.64216522,\n",
    "        0.64785021, -0.21609776, -1.1309649 ,  1.95599004, -0.3579645]\n",
    "y =   [-0.34166037,  0.25990444,  1.70860138,  0.66344894,  0.08912057,\n",
    "       -0.41922063, -1.43918702, -3.07618301,  0.02229978,  1.32291735,\n",
    "        0.33505524,  0.29741423, -0.54275277,  -1.47918228,  0.37008527]"
   ]
  },
  {
   "cell_type": "markdown",
   "metadata": {},
   "source": [
    "a. Calcular a correlação entre x e y (correlação de Pearson):"
   ]
  },
  {
   "cell_type": "code",
   "execution_count": 15,
   "metadata": {},
   "outputs": [
    {
     "name": "stdout",
     "output_type": "stream",
     "text": [
      "Correlação observada de x e z: 0.425674\n"
     ]
    }
   ],
   "source": [
    "robs = stats.pearsonr(x, y)[0]\n",
    "print(\"Correlação observada de x e z: %f\" % robs)"
   ]
  },
  {
   "cell_type": "markdown",
   "metadata": {},
   "source": [
    "Como os dois conjuntos representam uma pequena amostra da população, não é possível inferir que essa seja a real correlação entre as duas variáveis aleatórias. Portanto é desejável aferir se realmente a correlação é zero, ou seja os sinais são descorrelacionados, com um nível de significância de 5%."
   ]
  },
  {
   "cell_type": "markdown",
   "metadata": {},
   "source": [
    "b. Formular a hipótese nula e a hipótese alternativa do problema:\n",
    "\\begin{equation*}\n",
    "   H_0: r = 0\n",
    "\\end{equation*}   \n",
    "\\begin{equation*}\n",
    "   H_a: r \\neq 0\n",
    "\\end{equation*}"
   ]
  },
  {
   "cell_type": "markdown",
   "metadata": {},
   "source": [
    "Não há qualquer informação do fabricante acerca do desvio padrão populacional. Ainda, a amostra contém poucos dados. Para concluir se a hipótese nula será ou não rejeitada, o aluno decidiu realizar um Teste de Permutação.\n",
    "\n",
    "A ideia consiste em permutar os dados em uma das séries (**Caso 2** exposto acima). Logo, os novos pares de dados permutados (x,y) serão diferentes e consequentemente a correlação entre x e y também mudará. \n",
    "A cada iteração a nova correlação é medida e armazenada em uma lista. Ao final é possível montar um histograma que representa a distribuição da correlação entre x e y.\n",
    "Idealmente é desejável a realização de todas as permutações possíveis, porém com 15 amostras, o número de combinações possíveis é 15!, ou mais de 1,3 trilhão de possibilidades, tornando a solução computacionalmente inviável."
   ]
  },
  {
   "cell_type": "markdown",
   "metadata": {},
   "source": [
    "c. Montar o programa para realizar o teste de permutação para 100 mil iterações. Utilizar o comando random.shuffle() para embaralhar uma lista."
   ]
  },
  {
   "cell_type": "code",
   "execution_count": 16,
   "metadata": {},
   "outputs": [],
   "source": [
    "#Permutation test\n",
    "\n",
    "#número de permutações, o ideal seria m! mas seria inviável.\n",
    "n = 100000\n",
    "\n",
    "perm = []\n",
    "for i in range(0,n):\n",
    "    #Embaralhar o z, mas manter o x\n",
    "    \n",
    "    #calcular a correlação entre o x e o y embaralhado\n"
   ]
  },
  {
   "cell_type": "markdown",
   "metadata": {},
   "source": [
    "d. Exibir o histograma da correlação medida no teste de permutação. Lembre-se que o valor da correlação estará contido no intervalo [-1,1]."
   ]
  },
  {
   "cell_type": "code",
   "execution_count": null,
   "metadata": {},
   "outputs": [],
   "source": []
  },
  {
   "cell_type": "markdown",
   "metadata": {},
   "source": [
    "e. Calcular o valor-p da correlação observada no item 1"
   ]
  },
  {
   "cell_type": "code",
   "execution_count": 18,
   "metadata": {},
   "outputs": [
    {
     "name": "stdout",
     "output_type": "stream",
     "text": [
      "P-value através do teste de permutação: 0.058010\n"
     ]
    }
   ],
   "source": []
  },
  {
   "cell_type": "markdown",
   "metadata": {},
   "source": [
    "f. Concluir o teste de hipóteses"
   ]
  },
  {
   "cell_type": "code",
   "execution_count": null,
   "metadata": {},
   "outputs": [],
   "source": []
  }
 ],
 "metadata": {
  "kernelspec": {
   "display_name": "Python 3",
   "language": "python",
   "name": "python3"
  },
  "language_info": {
   "codemirror_mode": {
    "name": "ipython",
    "version": 3
   },
   "file_extension": ".py",
   "mimetype": "text/x-python",
   "name": "python",
   "nbconvert_exporter": "python",
   "pygments_lexer": "ipython3",
   "version": "3.6.5"
  }
 },
 "nbformat": 4,
 "nbformat_minor": 2
}
