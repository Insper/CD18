{
 "cells": [
  {
   "cell_type": "code",
   "execution_count": 1,
   "metadata": {},
   "outputs": [],
   "source": [
    "import pandas as pd\n",
    "import json\n",
    "import itertools\n",
    "import matplotlib.pyplot as plt\n",
    "%matplotlib inline"
   ]
  },
  {
   "cell_type": "markdown",
   "metadata": {},
   "source": [
    "### Leitura do arquivo"
   ]
  },
  {
   "cell_type": "markdown",
   "metadata": {},
   "source": [
    "No Firebase os dados encontram-se ordenados como estruturas aninhadas. Vamos usar a função Export JSON no Firebase console."
   ]
  },
  {
   "cell_type": "markdown",
   "metadata": {},
   "source": [
    "<img src=firebase_object_tree_elapsed.png width=200>"
   ]
  },
  {
   "cell_type": "markdown",
   "metadata": {},
   "source": [
    "\n",
    "A função *Exportar o JSON* fica à direita na visão de base de dados:\n",
    "<img src=export_json.png width=500>"
   ]
  },
  {
   "cell_type": "code",
   "execution_count": 2,
   "metadata": {},
   "outputs": [],
   "source": [
    "arquivo = open(\"teste-ab-export-elapsed.json\")\n",
    "linhas = arquivo.readlines()\n",
    "texto = \"\".join(linhas)\n",
    "dados_fire = json.loads(texto)"
   ]
  },
  {
   "cell_type": "markdown",
   "metadata": {},
   "source": [
    "### Análise dos atributos"
   ]
  },
  {
   "cell_type": "markdown",
   "metadata": {},
   "source": [
    " Vamos explorar os atributos armazenados neste JSON:"
   ]
  },
  {
   "cell_type": "code",
   "execution_count": 3,
   "metadata": {},
   "outputs": [],
   "source": [
    "for k,v in dados_fire.items():\n",
    "    # print(k,v) # habilite para imprimir as chaves de mais alto nível\n",
    "    for chave, valor in v.items():\n",
    "        #print(chave, valor) # habilite para imprimir as chaves inferiores\n",
    "        pass # desabilite quando reabilitar a linha de cima"
   ]
  },
  {
   "cell_type": "markdown",
   "metadata": {},
   "source": [
    "### Convertendo para um dataframe"
   ]
  },
  {
   "cell_type": "markdown",
   "metadata": {},
   "source": [
    "O pandas entende listas de dicionários que têm as mesmas chaves. O Firebase nos dá dicionários de dicionários de dicionários. \n",
    "\n",
    "Vamos precisar converter. Basta inserir todos os itens em uma lista"
   ]
  },
  {
   "cell_type": "code",
   "execution_count": 4,
   "metadata": {},
   "outputs": [],
   "source": [
    "lista_dicionarios = []\n",
    "\n",
    "for k,v in dados_fire.items():\n",
    "    lista_dicionarios.append(v)"
   ]
  },
  {
   "cell_type": "code",
   "execution_count": 5,
   "metadata": {},
   "outputs": [
    {
     "data": {
      "text/plain": [
       "[{'elapsed': 810,\n",
       "  'filename': 'Mobile2_a.html',\n",
       "  'id': '92a17e171a57d46920948059160a5db7'},\n",
       " {'elapsed': 1705,\n",
       "  'filename': 'Mobile2_a.html',\n",
       "  'id': '92a17e171a57d46920948059160a5db7'},\n",
       " {'elapsed': 1278,\n",
       "  'filename': 'Mobile2_b.html',\n",
       "  'id': '92a17e171a57d46920948059160a5db7'}]"
      ]
     },
     "execution_count": 5,
     "metadata": {},
     "output_type": "execute_result"
    }
   ],
   "source": [
    "lista_dicionarios[:3]"
   ]
  },
  {
   "cell_type": "markdown",
   "metadata": {},
   "source": [
    "A função `from_records` converte a lista de dicionários em um dataframe"
   ]
  },
  {
   "cell_type": "code",
   "execution_count": 6,
   "metadata": {},
   "outputs": [],
   "source": [
    "dataframe = pd.DataFrame.from_records(lista_dicionarios)"
   ]
  },
  {
   "cell_type": "code",
   "execution_count": 7,
   "metadata": {
    "scrolled": true
   },
   "outputs": [
    {
     "data": {
      "text/html": [
       "<div>\n",
       "<style scoped>\n",
       "    .dataframe tbody tr th:only-of-type {\n",
       "        vertical-align: middle;\n",
       "    }\n",
       "\n",
       "    .dataframe tbody tr th {\n",
       "        vertical-align: top;\n",
       "    }\n",
       "\n",
       "    .dataframe thead th {\n",
       "        text-align: right;\n",
       "    }\n",
       "</style>\n",
       "<table border=\"1\" class=\"dataframe\">\n",
       "  <thead>\n",
       "    <tr style=\"text-align: right;\">\n",
       "      <th></th>\n",
       "      <th>elapsed</th>\n",
       "      <th>filename</th>\n",
       "      <th>id</th>\n",
       "    </tr>\n",
       "  </thead>\n",
       "  <tbody>\n",
       "    <tr>\n",
       "      <th>8</th>\n",
       "      <td>2827</td>\n",
       "      <td>Mobile2_b.html</td>\n",
       "      <td>078a6762c757e362371cef08074cb331</td>\n",
       "    </tr>\n",
       "    <tr>\n",
       "      <th>9</th>\n",
       "      <td>3462</td>\n",
       "      <td>Mobile2_b.html</td>\n",
       "      <td>078a6762c757e362371cef08074cb331</td>\n",
       "    </tr>\n",
       "    <tr>\n",
       "      <th>54</th>\n",
       "      <td>2592</td>\n",
       "      <td>Mobile2_a.html</td>\n",
       "      <td>257d2e13a3beb798e68445124f594a1d</td>\n",
       "    </tr>\n",
       "    <tr>\n",
       "      <th>52</th>\n",
       "      <td>2801</td>\n",
       "      <td>Mobile2_a.html</td>\n",
       "      <td>257d2e13a3beb798e68445124f594a1d</td>\n",
       "    </tr>\n",
       "    <tr>\n",
       "      <th>11</th>\n",
       "      <td>2934</td>\n",
       "      <td>Mobile2_a.html</td>\n",
       "      <td>257d2e13a3beb798e68445124f594a1d</td>\n",
       "    </tr>\n",
       "    <tr>\n",
       "      <th>53</th>\n",
       "      <td>6213</td>\n",
       "      <td>Mobile2_a.html</td>\n",
       "      <td>257d2e13a3beb798e68445124f594a1d</td>\n",
       "    </tr>\n",
       "    <tr>\n",
       "      <th>51</th>\n",
       "      <td>9568</td>\n",
       "      <td>Mobile2_a.html</td>\n",
       "      <td>257d2e13a3beb798e68445124f594a1d</td>\n",
       "    </tr>\n",
       "    <tr>\n",
       "      <th>10</th>\n",
       "      <td>3064</td>\n",
       "      <td>Mobile2_b.html</td>\n",
       "      <td>257d2e13a3beb798e68445124f594a1d</td>\n",
       "    </tr>\n",
       "    <tr>\n",
       "      <th>18</th>\n",
       "      <td>1114</td>\n",
       "      <td>Mobile2_a.html</td>\n",
       "      <td>61258ebef70b2ab4d8430cd305f6f28a</td>\n",
       "    </tr>\n",
       "    <tr>\n",
       "      <th>49</th>\n",
       "      <td>1714</td>\n",
       "      <td>Mobile2_a.html</td>\n",
       "      <td>61258ebef70b2ab4d8430cd305f6f28a</td>\n",
       "    </tr>\n",
       "  </tbody>\n",
       "</table>\n",
       "</div>"
      ],
      "text/plain": [
       "    elapsed        filename                                id\n",
       "8      2827  Mobile2_b.html  078a6762c757e362371cef08074cb331\n",
       "9      3462  Mobile2_b.html  078a6762c757e362371cef08074cb331\n",
       "54     2592  Mobile2_a.html  257d2e13a3beb798e68445124f594a1d\n",
       "52     2801  Mobile2_a.html  257d2e13a3beb798e68445124f594a1d\n",
       "11     2934  Mobile2_a.html  257d2e13a3beb798e68445124f594a1d\n",
       "53     6213  Mobile2_a.html  257d2e13a3beb798e68445124f594a1d\n",
       "51     9568  Mobile2_a.html  257d2e13a3beb798e68445124f594a1d\n",
       "10     3064  Mobile2_b.html  257d2e13a3beb798e68445124f594a1d\n",
       "18     1114  Mobile2_a.html  61258ebef70b2ab4d8430cd305f6f28a\n",
       "49     1714  Mobile2_a.html  61258ebef70b2ab4d8430cd305f6f28a"
      ]
     },
     "execution_count": 7,
     "metadata": {},
     "output_type": "execute_result"
    }
   ],
   "source": [
    "dataframe.sort_values(by=['id', 'filename', 'elapsed']).head(10)"
   ]
  },
  {
   "cell_type": "markdown",
   "metadata": {},
   "source": [
    "# Comparação dos histogramas"
   ]
  },
  {
   "cell_type": "code",
   "execution_count": 8,
   "metadata": {},
   "outputs": [
    {
     "data": {
      "text/plain": [
       "(array([15.,  1.,  0.,  0.,  0.,  0.,  0.,  0.,  0.,  1.]),\n",
       " array([  1238. ,  29274.6,  57311.2,  85347.8, 113384.4, 141421. ,\n",
       "        169457.6, 197494.2, 225530.8, 253567.4, 281604. ]),\n",
       " <a list of 10 Patch objects>)"
      ]
     },
     "execution_count": 8,
     "metadata": {},
     "output_type": "execute_result"
    },
    {
     "data": {
      "image/png": "[encoded data removed]",
      "text/plain": [
       "<matplotlib.figure.Figure at 0x2135b393278>"
      ]
     },
     "metadata": {},
     "output_type": "display_data"
    }
   ],
   "source": [
    "tempos_A = list(dataframe[dataframe.filename==\"Mobile2_a.html\"].elapsed)\n",
    "tempos_B = list(dataframe[dataframe.filename==\"Mobile2_b.html\"].elapsed)\n",
    "plt.hist(tempos_A, bins=10)\n",
    "plt.hist(tempos_B, bins=10, alpha=0.5)"
   ]
  },
  {
   "cell_type": "code",
   "execution_count": null,
   "metadata": {},
   "outputs": [],
   "source": []
  }
 ],
 "metadata": {
  "kernelspec": {
   "display_name": "Python 3",
   "language": "python",
   "name": "python3"
  },
  "language_info": {
   "codemirror_mode": {
    "name": "ipython",
    "version": 3
   },
   "file_extension": ".py",
   "mimetype": "text/x-python",
   "name": "python",
   "nbconvert_exporter": "python",
   "pygments_lexer": "ipython3",
   "version": "3.6.4"
  }
 },
 "nbformat": 4,
 "nbformat_minor": 1
}
