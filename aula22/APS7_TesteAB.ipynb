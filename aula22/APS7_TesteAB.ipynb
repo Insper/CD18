{
 "cells": [
  {
   "cell_type": "markdown",
   "metadata": {},
   "source": [
    "# APS 7 - Teste AB"
   ]
  },
  {
   "cell_type": "markdown",
   "metadata": {},
   "source": [
    "Integrantes (trocar para nomes reais):\n",
    "\n",
    "**Huguinho**\n",
    "\n",
    "**Zezinho**\n",
    "\n",
    "**Luisinho**"
   ]
  },
  {
   "cell_type": "markdown",
   "metadata": {},
   "source": [
    "Deadline: **24/10**\n",
    "\n",
    "Fazer junto com o grupo que levantou as amostras de *co-design*\n",
    "\n",
    "### Teste AB via permutação\n",
    "\n",
    "Agora que você sabe como fazer testes de permutação, realize um teste de diferença de médias entre as versões $A$ e $B$ "
   ]
  },
  {
   "cell_type": "markdown",
   "metadata": {},
   "source": [
    "**1.**  Descreva o que era diferente nas versões $A$ e $B$ do seu projeto. Incluir screenshots\n",
    "\n",
    "Dica: o Jupyter Notebook deixa realizar *paste* de imagens"
   ]
  },
  {
   "cell_type": "markdown",
   "metadata": {},
   "source": []
  },
  {
   "cell_type": "markdown",
   "metadata": {},
   "source": [
    "**2.** Leia o arquivo *JSON* e o converta em *DataFrame*. Veja os exemplos na pasta [TesteAB](./TesteAB)."
   ]
  },
  {
   "cell_type": "code",
   "execution_count": null,
   "metadata": {},
   "outputs": [],
   "source": []
  },
  {
   "cell_type": "markdown",
   "metadata": {},
   "source": [
    "**3.** Separe os tempos *elapsed* em duas listas, $A$ e $B$"
   ]
  },
  {
   "cell_type": "code",
   "execution_count": null,
   "metadata": {},
   "outputs": [],
   "source": []
  },
  {
   "cell_type": "markdown",
   "metadata": {},
   "source": [
    "**4.** Formule a hipótese nula e a hipótese alternativa para comparar as duas amostras"
   ]
  },
  {
   "cell_type": "code",
   "execution_count": null,
   "metadata": {},
   "outputs": [],
   "source": []
  },
  {
   "cell_type": "markdown",
   "metadata": {},
   "source": [
    "**5.** Realize um teste de permutação e indique o *p-value*"
   ]
  },
  {
   "cell_type": "code",
   "execution_count": null,
   "metadata": {},
   "outputs": [],
   "source": []
  },
  {
   "cell_type": "markdown",
   "metadata": {},
   "source": [
    "**6.** Conclua o teste: uma das versões é estatisticamente melhor que a outra?"
   ]
  },
  {
   "cell_type": "code",
   "execution_count": null,
   "metadata": {},
   "outputs": [],
   "source": []
  }
 ],
 "metadata": {
  "kernelspec": {
   "display_name": "Python 3",
   "language": "python",
   "name": "python3"
  },
  "language_info": {
   "codemirror_mode": {
    "name": "ipython",
    "version": 3
   },
   "file_extension": ".py",
   "mimetype": "text/x-python",
   "name": "python",
   "nbconvert_exporter": "python",
   "pygments_lexer": "ipython3",
   "version": "3.5.5"
  }
 },
 "nbformat": 4,
 "nbformat_minor": 2
}
